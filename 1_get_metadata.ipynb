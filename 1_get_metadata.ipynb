{
 "cells": [
  {
   "cell_type": "code",
   "execution_count": 1,
   "metadata": {
    "executionInfo": {
     "elapsed": 836,
     "status": "ok",
     "timestamp": 1687314110608,
     "user": {
      "displayName": "Xiao Pang",
      "userId": "02327642841698979017"
     },
     "user_tz": 300
    },
    "id": "5-8-ws2CNIT-",
    "tags": []
   },
   "outputs": [
    {
     "data": {
      "text/plain": [
       "'/home/jupyter/movie-analysis'"
      ]
     },
     "execution_count": 1,
     "metadata": {},
     "output_type": "execute_result"
    }
   ],
   "source": [
    "import requests, time, json, re\n",
    "from bs4 import BeautifulSoup\n",
    "import pandas as pd\n",
    "from tqdm import tqdm\n",
    "# Disable chardet debug messages\n",
    "import logging\n",
    "logging.getLogger().setLevel(logging.WARNING)\n",
    "import urllib3\n",
    "urllib3.disable_warnings(urllib3.exceptions.InsecureRequestWarning)\n",
    "headers = {'user-agent': 'Mozilla/5.0 (X11; Linux x86_64) AppleWebKit/537.36 (KHTML, like Gecko) Chrome/80.0.3987.163 Safari/537.36',\n",
    "               'referer': 'https://google.com', \n",
    "              }\n",
    "from metadata import MovieMetadata as mm\n",
    "import os\n",
    "os.getcwd()"
   ]
  },
  {
   "cell_type": "code",
   "execution_count": 3,
   "metadata": {
    "tags": []
   },
   "outputs": [],
   "source": [
    "!pip install pandarallel -qq"
   ]
  },
  {
   "cell_type": "code",
   "execution_count": 4,
   "metadata": {
    "tags": []
   },
   "outputs": [
    {
     "name": "stdout",
     "output_type": "stream",
     "text": [
      "16\n",
      "INFO: Pandarallel will run on 15 workers.\n",
      "INFO: Pandarallel will use standard multiprocessing data transfer (pipe) to transfer data between the main process and workers.\n"
     ]
    }
   ],
   "source": [
    "from pandarallel import pandarallel\n",
    "import multiprocessing\n",
    "cpu_count = multiprocessing.cpu_count()\n",
    "print(cpu_count)\n",
    "pandarallel.initialize(nb_workers=cpu_count-1,\n",
    "                       progress_bar=True,\n",
    "                       use_memory_fs=False\n",
    "                      )"
   ]
  },
  {
   "cell_type": "code",
   "execution_count": 5,
   "metadata": {
    "tags": []
   },
   "outputs": [],
   "source": [
    "def get_all(row):\n",
    "    film = row['film']\n",
    "    return mm(film).combine_all()"
   ]
  },
  {
   "cell_type": "markdown",
   "metadata": {},
   "source": [
    "# KR"
   ]
  },
  {
   "cell_type": "code",
   "execution_count": 6,
   "metadata": {
    "tags": []
   },
   "outputs": [
    {
     "data": {
      "text/plain": [
       "(11651, 2)"
      ]
     },
     "execution_count": 6,
     "metadata": {},
     "output_type": "execute_result"
    }
   ],
   "source": [
    "kr = pd.read_pickle('data/kr_film.pkl')\n",
    "kr.shape"
   ]
  },
  {
   "cell_type": "code",
   "execution_count": 15,
   "metadata": {
    "tags": []
   },
   "outputs": [
    {
     "data": {
      "application/vnd.jupyter.widget-view+json": {
       "model_id": "3750155b80054084a98a8eb97c8c2af6",
       "version_major": 2,
       "version_minor": 0
      },
      "text/plain": [
       "VBox(children=(HBox(children=(IntProgress(value=0, description='0.00%', max=777), Label(value='0 / 777'))), HB…"
      ]
     },
     "metadata": {},
     "output_type": "display_data"
    },
    {
     "name": "stdout",
     "output_type": "stream",
     "text": [
      "my-country-the-new-age error\n",
      "le-sserafim-company error\n",
      "CPU times: user 16.5 s, sys: 4.03 s, total: 20.5 s\n",
      "Wall time: 7min 38s\n"
     ]
    }
   ],
   "source": [
    "%%time\n",
    "kr['meta'] = kr.parallel_apply(get_all, axis=1)"
   ]
  },
  {
   "cell_type": "code",
   "execution_count": 16,
   "metadata": {},
   "outputs": [
    {
     "name": "stdout",
     "output_type": "stream",
     "text": [
      "<class 'pandas.core.frame.DataFrame'>\n",
      "RangeIndex: 11651 entries, 0 to 11650\n",
      "Data columns (total 3 columns):\n",
      " #   Column  Non-Null Count  Dtype  \n",
      "---  ------  --------------  -----  \n",
      " 0   film    11651 non-null  object \n",
      " 1   rate    1536 non-null   float64\n",
      " 2   meta    11649 non-null  object \n",
      "dtypes: float64(1), object(2)\n",
      "memory usage: 273.2+ KB\n"
     ]
    }
   ],
   "source": [
    "kr.info()\n",
    "kr.to_pickle('data/kr_meta.pkl')"
   ]
  },
  {
   "cell_type": "code",
   "execution_count": null,
   "metadata": {},
   "outputs": [],
   "source": [
    "# my-country-the-new-age error\n",
    "# le-sserafim-company error"
   ]
  },
  {
   "cell_type": "code",
   "execution_count": 8,
   "metadata": {
    "tags": []
   },
   "outputs": [
    {
     "name": "stdout",
     "output_type": "stream",
     "text": [
      "<class 'pandas.core.frame.DataFrame'>\n",
      "RangeIndex: 11651 entries, 0 to 11650\n",
      "Data columns (total 3 columns):\n",
      " #   Column  Non-Null Count  Dtype  \n",
      "---  ------  --------------  -----  \n",
      " 0   film    11651 non-null  object \n",
      " 1   rate    1536 non-null   float64\n",
      " 2   meta    11649 non-null  object \n",
      "dtypes: float64(1), object(2)\n",
      "memory usage: 273.2+ KB\n"
     ]
    },
    {
     "data": {
      "text/plain": [
       "((11651, 3), None)"
      ]
     },
     "execution_count": 8,
     "metadata": {},
     "output_type": "execute_result"
    }
   ],
   "source": [
    "kr = pd.read_pickle('kr_meta.pkl')\n",
    "kr.shape, kr.info()"
   ]
  },
  {
   "cell_type": "code",
   "execution_count": 11,
   "metadata": {
    "tags": []
   },
   "outputs": [
    {
     "data": {
      "text/html": [
       "<div>\n",
       "<style scoped>\n",
       "    .dataframe tbody tr th:only-of-type {\n",
       "        vertical-align: middle;\n",
       "    }\n",
       "\n",
       "    .dataframe tbody tr th {\n",
       "        vertical-align: top;\n",
       "    }\n",
       "\n",
       "    .dataframe thead th {\n",
       "        text-align: right;\n",
       "    }\n",
       "</style>\n",
       "<table border=\"1\" class=\"dataframe\">\n",
       "  <thead>\n",
       "    <tr style=\"text-align: right;\">\n",
       "      <th></th>\n",
       "      <th>film</th>\n",
       "      <th>rate</th>\n",
       "      <th>meta</th>\n",
       "    </tr>\n",
       "  </thead>\n",
       "  <tbody>\n",
       "    <tr>\n",
       "      <th>7937</th>\n",
       "      <td>/film/my-country-the-new-age/</td>\n",
       "      <td>3.63</td>\n",
       "      <td>None</td>\n",
       "    </tr>\n",
       "    <tr>\n",
       "      <th>10646</th>\n",
       "      <td>/film/le-sserafim-company/</td>\n",
       "      <td>NaN</td>\n",
       "      <td>None</td>\n",
       "    </tr>\n",
       "  </tbody>\n",
       "</table>\n",
       "</div>"
      ],
      "text/plain": [
       "                                film  rate  meta\n",
       "7937   /film/my-country-the-new-age/  3.63  None\n",
       "10646     /film/le-sserafim-company/   NaN  None"
      ]
     },
     "execution_count": 11,
     "metadata": {},
     "output_type": "execute_result"
    }
   ],
   "source": [
    "kr[kr.meta.isna()]"
   ]
  },
  {
   "cell_type": "code",
   "execution_count": 17,
   "metadata": {
    "collapsed": true,
    "jupyter": {
     "outputs_hidden": true
    },
    "tags": []
   },
   "outputs": [
    {
     "name": "stderr",
     "output_type": "stream",
     "text": [
      "/tmp/ipykernel_326/3677374784.py:1: SettingWithCopyWarning: \n",
      "A value is trying to be set on a copy of a slice from a DataFrame\n",
      "\n",
      "See the caveats in the documentation: https://pandas.pydata.org/pandas-docs/stable/user_guide/indexing.html#returning-a-view-versus-a-copy\n",
      "  kr['meta'][7937] = mm(kr['film'][7937]).combine_all()\n",
      "/tmp/ipykernel_326/3677374784.py:2: SettingWithCopyWarning: \n",
      "A value is trying to be set on a copy of a slice from a DataFrame\n",
      "\n",
      "See the caveats in the documentation: https://pandas.pydata.org/pandas-docs/stable/user_guide/indexing.html#returning-a-view-versus-a-copy\n",
      "  kr['meta'][10646] = mm(kr['film'][10646]).combine_all()\n"
     ]
    },
    {
     "data": {
      "text/plain": [
       "({'title': 'My Country: The New Age',\n",
       "  'year': 2019.0,\n",
       "  'director': 'Kim Jin-won',\n",
       "  'desc': 'Set during the turbulent time of the fall of Goryeo and the founding of Joseon, two former friends face-off against one another over a woman and the future shape of the nation.',\n",
       "  'cast': ['Yang Se-jong',\n",
       "   'Woo Do-hwan',\n",
       "   'Kim Seol-hyun',\n",
       "   'Jang Hyuk',\n",
       "   'Kim Yeong-cheol',\n",
       "   'Park Ye-jin',\n",
       "   'Yu Oh-seong',\n",
       "   'Jang Young-nam',\n",
       "   'Ji Seung-hyun',\n",
       "   'In Gyo-jin'],\n",
       "  'Director': ['Kim Jin-won'],\n",
       "  'Writer': ['Chae Seung-dae'],\n",
       "  'Studios': ['Celltrion Entertainment', 'SLL'],\n",
       "  'Country': ['South Korea'],\n",
       "  'Language': ['Korean'],\n",
       "  'Alternative Titles': ['Meu país: a nova era, Mon Pays, Naui Nara, Mi pais. La nueva generación, Țara mea: O nouă eră, Моя страна: Новая эпоха, Моя страна, Моя страна. Новый век, 我的國家, Má země: Nový věk, Η Χώρα μου: Η Νέα Εποχή, Entre Dinastías: La Nueva Era, המדינה שלי, Az új kor, 私の国, 나의 나라, Meu País: A Nova Era, Quê Hương Ta: Thời Đại Mới - My Country: The New Age, 我的王国, 我的王國'],\n",
       "  'Genre': ['drama'],\n",
       "  'Themes': ['Epic history and literature',\n",
       "   'Epic heroes',\n",
       "   'War and historical adventure',\n",
       "   'historical, epic, battle, historic or fought',\n",
       "   'martial arts, kung fu, choreography, cool or action-packed',\n",
       "   'swords, adventure, fantasy, battle or epic',\n",
       "   'war, soldiers, combat, military or fought',\n",
       "   'shakespearean, kings, battle, breathtaking or epic',\n",
       "   'Show All…'],\n",
       "  'runtime': None,\n",
       "  'imdb_id': 'tt10850888',\n",
       "  'tmdb_id': '93490',\n",
       "  'watched_by': '478',\n",
       "  'listed_by': '201',\n",
       "  'liked_by': '144',\n",
       "  'rating': 3.63,\n",
       "  'rated_by': 298.0,\n",
       "  'poster': 'https://a.ltrbxd.com/resized/film-poster/7/8/4/3/4/0/784340-my-country-the-new-age-0-230-0-345-crop.jpg?v=554b4cfc58'},\n",
       " {'title': 'Le Sserafim Company',\n",
       "  'year': 2022.0,\n",
       "  'director': None,\n",
       "  'desc': None,\n",
       "  'cast': ['Sakura Miyawaki',\n",
       "   'Kim Chae-won',\n",
       "   'Huh Yun-jin',\n",
       "   'Kazuha Nakamura',\n",
       "   'Hong Eun-chae'],\n",
       "  'Country': ['South Korea'],\n",
       "  'Language': ['Korean'],\n",
       "  'Alternative Titles': ['르세라핌 컴퍼니, LE SSERAFIM COMPANY'],\n",
       "  'Genre': ['comedy'],\n",
       "  'runtime': 102.0,\n",
       "  'imdb_id': None,\n",
       "  'tmdb_id': '206218',\n",
       "  'watched_by': '42',\n",
       "  'listed_by': '9',\n",
       "  'liked_by': '9',\n",
       "  'rating': None,\n",
       "  'rated_by': None,\n",
       "  'poster': 'https://a.ltrbxd.com/resized/film-poster/9/3/3/1/3/3/933133-le-sserafim-company-0-230-0-345-crop.jpg?v=51a603b1e5'})"
      ]
     },
     "execution_count": 17,
     "metadata": {},
     "output_type": "execute_result"
    }
   ],
   "source": [
    "kr['meta'][7937] = mm(kr['film'][7937]).combine_all()\n",
    "kr['meta'][10646] = mm(kr['film'][10646]).combine_all()\n",
    "kr['meta'][7937], kr['meta'][10646]"
   ]
  },
  {
   "cell_type": "code",
   "execution_count": 18,
   "metadata": {
    "tags": []
   },
   "outputs": [
    {
     "name": "stdout",
     "output_type": "stream",
     "text": [
      "<class 'pandas.core.frame.DataFrame'>\n",
      "RangeIndex: 11651 entries, 0 to 11650\n",
      "Data columns (total 3 columns):\n",
      " #   Column  Non-Null Count  Dtype  \n",
      "---  ------  --------------  -----  \n",
      " 0   film    11651 non-null  object \n",
      " 1   rate    1536 non-null   float64\n",
      " 2   meta    11651 non-null  object \n",
      "dtypes: float64(1), object(2)\n",
      "memory usage: 273.2+ KB\n"
     ]
    }
   ],
   "source": [
    "kr.info()"
   ]
  },
  {
   "cell_type": "code",
   "execution_count": 19,
   "metadata": {
    "tags": []
   },
   "outputs": [
    {
     "data": {
      "text/plain": [
       "'/home/jupyter/movie-analysis'"
      ]
     },
     "execution_count": 19,
     "metadata": {},
     "output_type": "execute_result"
    }
   ],
   "source": [
    "import os\n",
    "os.getcwd()"
   ]
  },
  {
   "cell_type": "code",
   "execution_count": 20,
   "metadata": {
    "tags": []
   },
   "outputs": [],
   "source": [
    "kr.to_pickle('data/kr_meta.pkl')"
   ]
  },
  {
   "cell_type": "markdown",
   "metadata": {},
   "source": [
    "# CN"
   ]
  },
  {
   "cell_type": "code",
   "execution_count": 17,
   "metadata": {},
   "outputs": [
    {
     "name": "stdout",
     "output_type": "stream",
     "text": [
      "<class 'pandas.core.frame.DataFrame'>\n",
      "RangeIndex: 28304 entries, 0 to 28303\n",
      "Data columns (total 2 columns):\n",
      " #   Column  Non-Null Count  Dtype  \n",
      "---  ------  --------------  -----  \n",
      " 0   film    28304 non-null  object \n",
      " 1   rate    1691 non-null   float64\n",
      "dtypes: float64(1), object(1)\n",
      "memory usage: 442.4+ KB\n"
     ]
    },
    {
     "data": {
      "text/plain": [
       "((28304, 2), None)"
      ]
     },
     "execution_count": 17,
     "metadata": {},
     "output_type": "execute_result"
    }
   ],
   "source": [
    "cn = pd.read_pickle('data/cn_film.pkl')\n",
    "cn.shape, cn.info()"
   ]
  },
  {
   "cell_type": "code",
   "execution_count": 18,
   "metadata": {},
   "outputs": [
    {
     "data": {
      "application/vnd.jupyter.widget-view+json": {
       "model_id": "6e3018636325489099df4a7aa9c41fd5",
       "version_major": 2,
       "version_minor": 0
      },
      "text/plain": [
       "VBox(children=(HBox(children=(IntProgress(value=0, description='0.00%', max=1887), Label(value='0 / 1887'))), …"
      ]
     },
     "metadata": {},
     "output_type": "display_data"
    },
    {
     "name": "stdout",
     "output_type": "stream",
     "text": [
      "Connection refused by the server..\n",
      "the-tender-age error\n",
      "film:771681 error\n",
      "the-secret-of-immortal error\n",
      "to-capture-a-mockingbird error\n",
      "CPU times: user 31 s, sys: 8.44 s, total: 39.5 s\n",
      "Wall time: 31min 19s\n"
     ]
    }
   ],
   "source": [
    "%%time\n",
    "cn['meta'] = cn.parallel_apply(get_all, axis=1)"
   ]
  },
  {
   "cell_type": "code",
   "execution_count": 19,
   "metadata": {},
   "outputs": [
    {
     "name": "stdout",
     "output_type": "stream",
     "text": [
      "<class 'pandas.core.frame.DataFrame'>\n",
      "RangeIndex: 28304 entries, 0 to 28303\n",
      "Data columns (total 3 columns):\n",
      " #   Column  Non-Null Count  Dtype  \n",
      "---  ------  --------------  -----  \n",
      " 0   film    28304 non-null  object \n",
      " 1   rate    1691 non-null   float64\n",
      " 2   meta    28300 non-null  object \n",
      "dtypes: float64(1), object(2)\n",
      "memory usage: 663.5+ KB\n"
     ]
    }
   ],
   "source": [
    "# the-tender-age error\n",
    "# film:771681 error\n",
    "# the-secret-of-immortal error\n",
    "# to-capture-a-mockingbird error\n",
    "cn.info()\n",
    "cn.to_pickle('data/cn_meta.pkl')"
   ]
  },
  {
   "cell_type": "code",
   "execution_count": 21,
   "metadata": {
    "tags": []
   },
   "outputs": [
    {
     "data": {
      "text/html": [
       "<div>\n",
       "<style scoped>\n",
       "    .dataframe tbody tr th:only-of-type {\n",
       "        vertical-align: middle;\n",
       "    }\n",
       "\n",
       "    .dataframe tbody tr th {\n",
       "        vertical-align: top;\n",
       "    }\n",
       "\n",
       "    .dataframe thead th {\n",
       "        text-align: right;\n",
       "    }\n",
       "</style>\n",
       "<table border=\"1\" class=\"dataframe\">\n",
       "  <thead>\n",
       "    <tr style=\"text-align: right;\">\n",
       "      <th></th>\n",
       "      <th>film</th>\n",
       "      <th>rate</th>\n",
       "      <th>meta</th>\n",
       "    </tr>\n",
       "  </thead>\n",
       "  <tbody>\n",
       "    <tr>\n",
       "      <th>877</th>\n",
       "      <td>/film/film:771681/</td>\n",
       "      <td>NaN</td>\n",
       "      <td>None</td>\n",
       "    </tr>\n",
       "    <tr>\n",
       "      <th>11034</th>\n",
       "      <td>/film/to-capture-a-mockingbird/</td>\n",
       "      <td>NaN</td>\n",
       "      <td>None</td>\n",
       "    </tr>\n",
       "    <tr>\n",
       "      <th>18394</th>\n",
       "      <td>/film/the-secret-of-immortal/</td>\n",
       "      <td>NaN</td>\n",
       "      <td>None</td>\n",
       "    </tr>\n",
       "    <tr>\n",
       "      <th>23782</th>\n",
       "      <td>/film/the-tender-age/</td>\n",
       "      <td>NaN</td>\n",
       "      <td>None</td>\n",
       "    </tr>\n",
       "  </tbody>\n",
       "</table>\n",
       "</div>"
      ],
      "text/plain": [
       "                                  film  rate  meta\n",
       "877                 /film/film:771681/   NaN  None\n",
       "11034  /film/to-capture-a-mockingbird/   NaN  None\n",
       "18394    /film/the-secret-of-immortal/   NaN  None\n",
       "23782            /film/the-tender-age/   NaN  None"
      ]
     },
     "execution_count": 21,
     "metadata": {},
     "output_type": "execute_result"
    }
   ],
   "source": [
    "cn = pd.read_pickle('data/cn_meta.pkl')\n",
    "cn[cn['meta'].isna()]"
   ]
  },
  {
   "cell_type": "code",
   "execution_count": 23,
   "metadata": {
    "tags": []
   },
   "outputs": [
    {
     "name": "stderr",
     "output_type": "stream",
     "text": [
      "/tmp/ipykernel_326/2142929435.py:2: SettingWithCopyWarning: \n",
      "A value is trying to be set on a copy of a slice from a DataFrame\n",
      "\n",
      "See the caveats in the documentation: https://pandas.pydata.org/pandas-docs/stable/user_guide/indexing.html#returning-a-view-versus-a-copy\n",
      "  cn['meta'][idx] = mm(cn['film'][idx]).combine_all()\n"
     ]
    }
   ],
   "source": [
    "for idx in [877,11034,18394,23782]:\n",
    "    cn['meta'][idx] = mm(cn['film'][idx]).combine_all()"
   ]
  },
  {
   "cell_type": "code",
   "execution_count": 24,
   "metadata": {
    "tags": []
   },
   "outputs": [
    {
     "data": {
      "text/html": [
       "<div>\n",
       "<style scoped>\n",
       "    .dataframe tbody tr th:only-of-type {\n",
       "        vertical-align: middle;\n",
       "    }\n",
       "\n",
       "    .dataframe tbody tr th {\n",
       "        vertical-align: top;\n",
       "    }\n",
       "\n",
       "    .dataframe thead th {\n",
       "        text-align: right;\n",
       "    }\n",
       "</style>\n",
       "<table border=\"1\" class=\"dataframe\">\n",
       "  <thead>\n",
       "    <tr style=\"text-align: right;\">\n",
       "      <th></th>\n",
       "      <th>film</th>\n",
       "      <th>rate</th>\n",
       "      <th>meta</th>\n",
       "    </tr>\n",
       "  </thead>\n",
       "  <tbody>\n",
       "  </tbody>\n",
       "</table>\n",
       "</div>"
      ],
      "text/plain": [
       "Empty DataFrame\n",
       "Columns: [film, rate, meta]\n",
       "Index: []"
      ]
     },
     "execution_count": 24,
     "metadata": {},
     "output_type": "execute_result"
    }
   ],
   "source": [
    "cn[cn['meta'].isna()]"
   ]
  },
  {
   "cell_type": "code",
   "execution_count": 25,
   "metadata": {
    "tags": []
   },
   "outputs": [],
   "source": [
    "cn.to_pickle('data/cn_meta.pkl')"
   ]
  },
  {
   "cell_type": "markdown",
   "metadata": {},
   "source": [
    "# JP"
   ]
  },
  {
   "cell_type": "code",
   "execution_count": 20,
   "metadata": {},
   "outputs": [
    {
     "name": "stdout",
     "output_type": "stream",
     "text": [
      "<class 'pandas.core.frame.DataFrame'>\n",
      "RangeIndex: 34689 entries, 0 to 34688\n",
      "Data columns (total 2 columns):\n",
      " #   Column  Non-Null Count  Dtype  \n",
      "---  ------  --------------  -----  \n",
      " 0   film    34689 non-null  object \n",
      " 1   rate    4005 non-null   float64\n",
      "dtypes: float64(1), object(1)\n",
      "memory usage: 542.1+ KB\n"
     ]
    },
    {
     "data": {
      "text/plain": [
       "((34689, 2), None)"
      ]
     },
     "execution_count": 20,
     "metadata": {},
     "output_type": "execute_result"
    }
   ],
   "source": [
    "jp = pd.read_pickle('data/jp_film.pkl')\n",
    "jp.shape, jp.info()"
   ]
  },
  {
   "cell_type": "code",
   "execution_count": 21,
   "metadata": {},
   "outputs": [
    {
     "data": {
      "application/vnd.jupyter.widget-view+json": {
       "model_id": "99cf9a1373f14391b0733f4752ba0c67",
       "version_major": 2,
       "version_minor": 0
      },
      "text/plain": [
       "VBox(children=(HBox(children=(IntProgress(value=0, description='0.00%', max=2313), Label(value='0 / 2313'))), …"
      ]
     },
     "metadata": {},
     "output_type": "display_data"
    },
    {
     "name": "stdout",
     "output_type": "stream",
     "text": [
      "Connection refused by the server..\n",
      "unending-advance error\n",
      "ninja-gangsters-extorting-from-the-bad error\n",
      "Connection refused by the server..\n",
      "tropical-rouge-precure error\n",
      "real-tragedy-video-2 error\n",
      "CPU times: user 38.6 s, sys: 10.9 s, total: 49.5 s\n",
      "Wall time: 38min 13s\n"
     ]
    }
   ],
   "source": [
    "%%time\n",
    "jp['meta'] = jp.parallel_apply(get_all, axis=1)"
   ]
  },
  {
   "cell_type": "code",
   "execution_count": 22,
   "metadata": {},
   "outputs": [
    {
     "name": "stdout",
     "output_type": "stream",
     "text": [
      "<class 'pandas.core.frame.DataFrame'>\n",
      "RangeIndex: 34689 entries, 0 to 34688\n",
      "Data columns (total 3 columns):\n",
      " #   Column  Non-Null Count  Dtype  \n",
      "---  ------  --------------  -----  \n",
      " 0   film    34689 non-null  object \n",
      " 1   rate    4005 non-null   float64\n",
      " 2   meta    34685 non-null  object \n",
      "dtypes: float64(1), object(2)\n",
      "memory usage: 813.1+ KB\n"
     ]
    }
   ],
   "source": [
    "# unending-advance error\n",
    "# ninja-gangsters-extorting-from-the-bad error\n",
    "# tropical-rouge-precure error\n",
    "# real-tragedy-video-2 error\n",
    "jp.info()\n",
    "jp.to_pickle('data/jp_meta.pkl')"
   ]
  },
  {
   "cell_type": "code",
   "execution_count": 26,
   "metadata": {
    "tags": []
   },
   "outputs": [
    {
     "data": {
      "text/html": [
       "<div>\n",
       "<style scoped>\n",
       "    .dataframe tbody tr th:only-of-type {\n",
       "        vertical-align: middle;\n",
       "    }\n",
       "\n",
       "    .dataframe tbody tr th {\n",
       "        vertical-align: top;\n",
       "    }\n",
       "\n",
       "    .dataframe thead th {\n",
       "        text-align: right;\n",
       "    }\n",
       "</style>\n",
       "<table border=\"1\" class=\"dataframe\">\n",
       "  <thead>\n",
       "    <tr style=\"text-align: right;\">\n",
       "      <th></th>\n",
       "      <th>film</th>\n",
       "      <th>rate</th>\n",
       "      <th>meta</th>\n",
       "    </tr>\n",
       "  </thead>\n",
       "  <tbody>\n",
       "    <tr>\n",
       "      <th>616</th>\n",
       "      <td>/film/unending-advance/</td>\n",
       "      <td>NaN</td>\n",
       "      <td>None</td>\n",
       "    </tr>\n",
       "    <tr>\n",
       "      <th>7621</th>\n",
       "      <td>/film/ninja-gangsters-extorting-from-the-bad/</td>\n",
       "      <td>NaN</td>\n",
       "      <td>None</td>\n",
       "    </tr>\n",
       "    <tr>\n",
       "      <th>22838</th>\n",
       "      <td>/film/real-tragedy-video-2/</td>\n",
       "      <td>NaN</td>\n",
       "      <td>None</td>\n",
       "    </tr>\n",
       "    <tr>\n",
       "      <th>31558</th>\n",
       "      <td>/film/tropical-rouge-precure/</td>\n",
       "      <td>NaN</td>\n",
       "      <td>None</td>\n",
       "    </tr>\n",
       "  </tbody>\n",
       "</table>\n",
       "</div>"
      ],
      "text/plain": [
       "                                                film  rate  meta\n",
       "616                          /film/unending-advance/   NaN  None\n",
       "7621   /film/ninja-gangsters-extorting-from-the-bad/   NaN  None\n",
       "22838                    /film/real-tragedy-video-2/   NaN  None\n",
       "31558                  /film/tropical-rouge-precure/   NaN  None"
      ]
     },
     "execution_count": 26,
     "metadata": {},
     "output_type": "execute_result"
    }
   ],
   "source": [
    "jp = pd.read_pickle('data/jp_meta.pkl')\n",
    "jp[jp.meta.isna()]"
   ]
  },
  {
   "cell_type": "code",
   "execution_count": 31,
   "metadata": {
    "tags": []
   },
   "outputs": [
    {
     "name": "stderr",
     "output_type": "stream",
     "text": [
      "/tmp/ipykernel_326/2136725604.py:2: SettingWithCopyWarning: \n",
      "A value is trying to be set on a copy of a slice from a DataFrame\n",
      "\n",
      "See the caveats in the documentation: https://pandas.pydata.org/pandas-docs/stable/user_guide/indexing.html#returning-a-view-versus-a-copy\n",
      "  jp['meta'][idx] = mm(jp['film'][idx]).combine_all()\n"
     ]
    }
   ],
   "source": [
    "for i in [616,7621,22838,31558]:\n",
    "    jp['meta'][idx] = mm(jp['film'][idx]).combine_all()"
   ]
  },
  {
   "cell_type": "code",
   "execution_count": 33,
   "metadata": {
    "tags": []
   },
   "outputs": [
    {
     "name": "stderr",
     "output_type": "stream",
     "text": [
      "/tmp/ipykernel_326/4186003049.py:1: SettingWithCopyWarning: \n",
      "A value is trying to be set on a copy of a slice from a DataFrame\n",
      "\n",
      "See the caveats in the documentation: https://pandas.pydata.org/pandas-docs/stable/user_guide/indexing.html#returning-a-view-versus-a-copy\n",
      "  jp.meta[616] = mm(jp.film[616]).combine_all()\n"
     ]
    }
   ],
   "source": [
    "jp.meta[616] = mm(jp.film[616]).combine_all()"
   ]
  },
  {
   "cell_type": "code",
   "execution_count": 35,
   "metadata": {
    "tags": []
   },
   "outputs": [
    {
     "name": "stderr",
     "output_type": "stream",
     "text": [
      "/tmp/ipykernel_326/436667804.py:1: SettingWithCopyWarning: \n",
      "A value is trying to be set on a copy of a slice from a DataFrame\n",
      "\n",
      "See the caveats in the documentation: https://pandas.pydata.org/pandas-docs/stable/user_guide/indexing.html#returning-a-view-versus-a-copy\n",
      "  jp.meta[7621] = mm(jp.film[7621]).combine_all()\n"
     ]
    }
   ],
   "source": [
    "jp.meta[7621] = mm(jp.film[7621]).combine_all()"
   ]
  },
  {
   "cell_type": "code",
   "execution_count": 37,
   "metadata": {
    "tags": []
   },
   "outputs": [
    {
     "name": "stderr",
     "output_type": "stream",
     "text": [
      "/tmp/ipykernel_326/2152505019.py:1: SettingWithCopyWarning: \n",
      "A value is trying to be set on a copy of a slice from a DataFrame\n",
      "\n",
      "See the caveats in the documentation: https://pandas.pydata.org/pandas-docs/stable/user_guide/indexing.html#returning-a-view-versus-a-copy\n",
      "  jp.meta[22838] = mm(jp.film[22838]).combine_all()\n",
      "/tmp/ipykernel_326/2152505019.py:2: SettingWithCopyWarning: \n",
      "A value is trying to be set on a copy of a slice from a DataFrame\n",
      "\n",
      "See the caveats in the documentation: https://pandas.pydata.org/pandas-docs/stable/user_guide/indexing.html#returning-a-view-versus-a-copy\n",
      "  jp.meta[31558] = mm(jp.film[31558]).combine_all()\n"
     ]
    }
   ],
   "source": [
    "jp.meta[22838] = mm(jp.film[22838]).combine_all()\n",
    "jp.meta[31558] = mm(jp.film[31558]).combine_all()"
   ]
  },
  {
   "cell_type": "code",
   "execution_count": 40,
   "metadata": {
    "tags": []
   },
   "outputs": [
    {
     "data": {
      "text/html": [
       "<div>\n",
       "<style scoped>\n",
       "    .dataframe tbody tr th:only-of-type {\n",
       "        vertical-align: middle;\n",
       "    }\n",
       "\n",
       "    .dataframe tbody tr th {\n",
       "        vertical-align: top;\n",
       "    }\n",
       "\n",
       "    .dataframe thead th {\n",
       "        text-align: right;\n",
       "    }\n",
       "</style>\n",
       "<table border=\"1\" class=\"dataframe\">\n",
       "  <thead>\n",
       "    <tr style=\"text-align: right;\">\n",
       "      <th></th>\n",
       "      <th>film</th>\n",
       "      <th>rate</th>\n",
       "      <th>meta</th>\n",
       "    </tr>\n",
       "  </thead>\n",
       "  <tbody>\n",
       "  </tbody>\n",
       "</table>\n",
       "</div>"
      ],
      "text/plain": [
       "Empty DataFrame\n",
       "Columns: [film, rate, meta]\n",
       "Index: []"
      ]
     },
     "execution_count": 40,
     "metadata": {},
     "output_type": "execute_result"
    }
   ],
   "source": [
    "jp[jp.meta.isna()]"
   ]
  },
  {
   "cell_type": "code",
   "execution_count": 41,
   "metadata": {
    "tags": []
   },
   "outputs": [],
   "source": [
    "jp.to_pickle('data/jp_meta.pkl')"
   ]
  },
  {
   "cell_type": "code",
   "execution_count": null,
   "metadata": {
    "id": "81kvXZqDpV2l"
   },
   "outputs": [],
   "source": []
  }
 ],
 "metadata": {
  "colab": {
   "authorship_tag": "ABX9TyNCho6d0xn3WeCRtEMyTUCx",
   "provenance": []
  },
  "kernelspec": {
   "display_name": "Python 3 (ipykernel)",
   "language": "python",
   "name": "python3"
  },
  "language_info": {
   "codemirror_mode": {
    "name": "ipython",
    "version": 3
   },
   "file_extension": ".py",
   "mimetype": "text/x-python",
   "name": "python",
   "nbconvert_exporter": "python",
   "pygments_lexer": "ipython3",
   "version": "3.10.10"
  }
 },
 "nbformat": 4,
 "nbformat_minor": 4
}
