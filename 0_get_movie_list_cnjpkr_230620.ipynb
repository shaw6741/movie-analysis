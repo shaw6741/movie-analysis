{
 "cells": [
  {
   "cell_type": "code",
   "execution_count": 1,
   "metadata": {
    "id": "5-8-ws2CNIT-"
   },
   "outputs": [],
   "source": [
    "import requests, json, re, time\n",
    "from bs4 import BeautifulSoup\n",
    "import pandas as pd\n",
    "from tqdm import tqdm\n",
    "# Disable chardet debug messages\n",
    "import logging\n",
    "logging.getLogger().setLevel(logging.WARNING)\n",
    "import urllib3\n",
    "urllib3.disable_warnings(urllib3.exceptions.InsecureRequestWarning)\n",
    "\n",
    "from get_movie_list import *"
   ]
  },
  {
   "cell_type": "code",
   "execution_count": 2,
   "metadata": {},
   "outputs": [
    {
     "data": {
      "text/plain": [
       "{'Japanese': 34665, 'Korean': 11651, 'Chinese': 23581, 'Cantonese': 4714}"
      ]
     },
     "execution_count": 2,
     "metadata": {},
     "output_type": "execute_result"
    }
   ],
   "source": [
    "keys = ['Japanese','Korean','Chinese','Cantonese']\n",
    "target_lans = get_language_count(keys)\n",
    "target_lans"
   ]
  },
  {
   "cell_type": "markdown",
   "metadata": {},
   "source": [
    "# Korean"
   ]
  },
  {
   "cell_type": "code",
   "execution_count": 3,
   "metadata": {},
   "outputs": [
    {
     "name": "stderr",
     "output_type": "stream",
     "text": [
      "Scraping page 162 of 163 pages: 100%|████████████████████████████████████████████████| 162/162 [10:24<00:00,  3.85s/it]\n"
     ]
    },
    {
     "data": {
      "text/plain": [
       "(11651, 11651)"
      ]
     },
     "execution_count": 3,
     "metadata": {},
     "output_type": "execute_result"
    }
   ],
   "source": [
    "kr_film_lst, kr_rate_lst = get_all('Korean', target_lans)\n",
    "len(kr_film_lst), len(kr_rate_lst)"
   ]
  },
  {
   "cell_type": "code",
   "execution_count": 4,
   "metadata": {},
   "outputs": [],
   "source": [
    "kr_film = pd.DataFrame({'film':kr_film_lst, 'rate':kr_rate_lst})\n",
    "kr_film.to_pickle('kr_film.pkl')"
   ]
  },
  {
   "cell_type": "code",
   "execution_count": 5,
   "metadata": {},
   "outputs": [
    {
     "name": "stdout",
     "output_type": "stream",
     "text": [
      "<class 'pandas.core.frame.DataFrame'>\n",
      "RangeIndex: 11651 entries, 0 to 11650\n",
      "Data columns (total 2 columns):\n",
      " #   Column  Non-Null Count  Dtype  \n",
      "---  ------  --------------  -----  \n",
      " 0   film    11651 non-null  object \n",
      " 1   rate    1536 non-null   float64\n",
      "dtypes: float64(1), object(1)\n",
      "memory usage: 182.2+ KB\n"
     ]
    }
   ],
   "source": [
    "kr_film.info()"
   ]
  },
  {
   "cell_type": "markdown",
   "metadata": {},
   "source": [
    "# Japanese"
   ]
  },
  {
   "cell_type": "code",
   "execution_count": 10,
   "metadata": {},
   "outputs": [
    {
     "name": "stderr",
     "output_type": "stream",
     "text": [
      "Scraping page 482 of 483 pages: 100%|████████████████████████████████████████████████| 482/482 [09:21<00:00,  1.17s/it]\n"
     ]
    },
    {
     "data": {
      "text/plain": [
       "(34689, 34689)"
      ]
     },
     "execution_count": 10,
     "metadata": {},
     "output_type": "execute_result"
    }
   ],
   "source": [
    "jp_film_lst, jp_rate_lst = get_all('Japanese', target_lans)\n",
    "len(jp_film_lst), len(jp_rate_lst)"
   ]
  },
  {
   "cell_type": "code",
   "execution_count": 11,
   "metadata": {},
   "outputs": [
    {
     "name": "stdout",
     "output_type": "stream",
     "text": [
      "<class 'pandas.core.frame.DataFrame'>\n",
      "RangeIndex: 34689 entries, 0 to 34688\n",
      "Data columns (total 2 columns):\n",
      " #   Column  Non-Null Count  Dtype  \n",
      "---  ------  --------------  -----  \n",
      " 0   film    34689 non-null  object \n",
      " 1   rate    4005 non-null   float64\n",
      "dtypes: float64(1), object(1)\n",
      "memory usage: 542.1+ KB\n"
     ]
    }
   ],
   "source": [
    "jp_film = pd.DataFrame({'film':jp_film_lst, 'rate':jp_rate_lst})\n",
    "jp_film.to_pickle('jp_film.pkl')\n",
    "jp_film.info()"
   ]
  },
  {
   "cell_type": "markdown",
   "metadata": {},
   "source": [
    "# Chinese"
   ]
  },
  {
   "cell_type": "code",
   "execution_count": 6,
   "metadata": {
    "colab": {
     "base_uri": "https://localhost:8080/"
    },
    "executionInfo": {
     "elapsed": 467275,
     "status": "ok",
     "timestamp": 1687310135507,
     "user": {
      "displayName": "Xiao Pang",
      "userId": "02327642841698979017"
     },
     "user_tz": 300
    },
    "id": "h4lhpeqbfWnF",
    "outputId": "1765d7d0-57f6-4536-a9bd-637a2f90945e"
   },
   "outputs": [
    {
     "name": "stderr",
     "output_type": "stream",
     "text": [
      "Scraping page 328 of 329 pages: 100%|████████████████████████████████████████████████| 328/328 [10:49<00:00,  1.98s/it]\n"
     ]
    },
    {
     "data": {
      "text/plain": [
       "(23589, 23589)"
      ]
     },
     "execution_count": 6,
     "metadata": {},
     "output_type": "execute_result"
    }
   ],
   "source": [
    "cn_film_lst, cn_rate_lst = get_all('Chinese', target_lans)\n",
    "len(cn_film_lst), len(cn_rate_lst)"
   ]
  },
  {
   "cell_type": "code",
   "execution_count": 7,
   "metadata": {},
   "outputs": [
    {
     "name": "stderr",
     "output_type": "stream",
     "text": [
      "Scraping page 66 of 67 pages: 100%|████████████████████████████████████████████████████| 66/66 [01:55<00:00,  1.76s/it]\n"
     ]
    },
    {
     "data": {
      "text/plain": [
       "(4715, 4715)"
      ]
     },
     "execution_count": 7,
     "metadata": {},
     "output_type": "execute_result"
    }
   ],
   "source": [
    "hk_film_lst, hk_rate_lst = get_all('Cantonese', target_lans)\n",
    "len(hk_film_lst), len(hk_rate_lst)"
   ]
  },
  {
   "cell_type": "code",
   "execution_count": 8,
   "metadata": {},
   "outputs": [
    {
     "name": "stdout",
     "output_type": "stream",
     "text": [
      "<class 'pandas.core.frame.DataFrame'>\n",
      "RangeIndex: 28304 entries, 0 to 28303\n",
      "Data columns (total 2 columns):\n",
      " #   Column  Non-Null Count  Dtype  \n",
      "---  ------  --------------  -----  \n",
      " 0   film    28304 non-null  object \n",
      " 1   rate    1691 non-null   float64\n",
      "dtypes: float64(1), object(1)\n",
      "memory usage: 442.4+ KB\n"
     ]
    }
   ],
   "source": [
    "cn_film_lst.extend(hk_film_lst)\n",
    "cn_rate_lst.extend(hk_rate_lst)\n",
    "cn_film = pd.DataFrame({'film':cn_film_lst, 'rate':cn_rate_lst})\n",
    "cn_film.to_pickle('cn_film.pkl')\n",
    "cn_film.info()"
   ]
  },
  {
   "cell_type": "code",
   "execution_count": null,
   "metadata": {},
   "outputs": [],
   "source": []
  }
 ],
 "metadata": {
  "colab": {
   "authorship_tag": "ABX9TyOx0ENu0duuoCuYrWcwEeRC",
   "collapsed_sections": [
    "t3jM4X1jimA7"
   ],
   "provenance": []
  },
  "kernelspec": {
   "display_name": "Python 3 (ipykernel)",
   "language": "python",
   "name": "python3"
  },
  "language_info": {
   "codemirror_mode": {
    "name": "ipython",
    "version": 3
   },
   "file_extension": ".py",
   "mimetype": "text/x-python",
   "name": "python",
   "nbconvert_exporter": "python",
   "pygments_lexer": "ipython3",
   "version": "3.9.12"
  }
 },
 "nbformat": 4,
 "nbformat_minor": 1
}
