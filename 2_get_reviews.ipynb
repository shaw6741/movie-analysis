{
 "cells": [
  {
   "cell_type": "markdown",
   "id": "d7ef3e61-70cb-4b52-84e8-bbb97ee4297c",
   "metadata": {},
   "source": [
    "# get reviews"
   ]
  },
  {
   "cell_type": "code",
   "execution_count": 1,
   "id": "68556f0d-2afb-47a1-a92b-5eab81670226",
   "metadata": {
    "tags": []
   },
   "outputs": [
    {
     "data": {
      "text/plain": [
       "'/home/jupyter/movie-analysis'"
      ]
     },
     "execution_count": 1,
     "metadata": {},
     "output_type": "execute_result"
    }
   ],
   "source": [
    "import requests, time, json, re\n",
    "import numpy as np\n",
    "from bs4 import BeautifulSoup\n",
    "import pandas as pd\n",
    "from tqdm import tqdm\n",
    "# Disable chardet debug messages\n",
    "import logging\n",
    "logging.getLogger().setLevel(logging.WARNING)\n",
    "import urllib3\n",
    "urllib3.disable_warnings(urllib3.exceptions.InsecureRequestWarning)\n",
    "\n",
    "from metadata import *\n",
    "\n",
    "import multiprocessing\n",
    "cpu_count = multiprocessing.cpu_count()\n",
    "\n",
    "import os\n",
    "os.getcwd()"
   ]
  },
  {
   "cell_type": "code",
   "execution_count": 2,
   "id": "e0e78166-1ece-4660-86f1-3b61bf1a9460",
   "metadata": {
    "tags": []
   },
   "outputs": [],
   "source": [
    "!pip install pandarallel -qq"
   ]
  },
  {
   "cell_type": "code",
   "execution_count": 3,
   "id": "8fe1ba37-1695-470f-a2ba-31ff33116269",
   "metadata": {
    "tags": []
   },
   "outputs": [
    {
     "name": "stdout",
     "output_type": "stream",
     "text": [
      "16\n",
      "INFO: Pandarallel will run on 15 workers.\n",
      "INFO: Pandarallel will use standard multiprocessing data transfer (pipe) to transfer data between the main process and workers.\n"
     ]
    }
   ],
   "source": [
    "from pandarallel import pandarallel\n",
    "print(cpu_count)\n",
    "pandarallel.initialize(nb_workers=cpu_count-1, progress_bar=True, use_memory_fs=False)"
   ]
  },
  {
   "cell_type": "markdown",
   "id": "d23191c4",
   "metadata": {},
   "source": [
    "## check num of reviews"
   ]
  },
  {
   "cell_type": "code",
   "execution_count": 4,
   "id": "42d1a972",
   "metadata": {},
   "outputs": [],
   "source": [
    "def get_all(row):\n",
    "    film = row.film\n",
    "    return movieReview(film).get_num_reviews()"
   ]
  },
  {
   "cell_type": "markdown",
   "id": "72b7594f",
   "metadata": {},
   "source": [
    "### KR"
   ]
  },
  {
   "cell_type": "code",
   "execution_count": 5,
   "id": "a866ca7c",
   "metadata": {},
   "outputs": [],
   "source": [
    "kr=pd.read_pickle('data/kr_meta.pkl')"
   ]
  },
  {
   "cell_type": "code",
   "execution_count": 6,
   "id": "ff222b85",
   "metadata": {},
   "outputs": [
    {
     "data": {
      "application/vnd.jupyter.widget-view+json": {
       "model_id": "dc588ad2815e4a5586b9e71da14c76aa",
       "version_major": 2,
       "version_minor": 0
      },
      "text/plain": [
       "VBox(children=(HBox(children=(IntProgress(value=0, description='0.00%', max=777), Label(value='0 / 777'))), HB…"
      ]
     },
     "metadata": {},
     "output_type": "display_data"
    },
    {
     "name": "stdout",
     "output_type": "stream",
     "text": [
      "Sleep...\n",
      "Sleep...\n",
      "CPU times: user 13.4 s, sys: 3.68 s, total: 17.1 s\n",
      "Wall time: 3min 41s\n"
     ]
    }
   ],
   "source": [
    "%%time\n",
    "kr['num_reviews'] = kr.parallel_apply(get_all, axis=1)"
   ]
  },
  {
   "cell_type": "code",
   "execution_count": 7,
   "id": "61cd0f7d",
   "metadata": {},
   "outputs": [
    {
     "name": "stdout",
     "output_type": "stream",
     "text": [
      "<class 'pandas.core.frame.DataFrame'>\n",
      "RangeIndex: 11651 entries, 0 to 11650\n",
      "Data columns (total 4 columns):\n",
      " #   Column       Non-Null Count  Dtype  \n",
      "---  ------       --------------  -----  \n",
      " 0   film         11651 non-null  object \n",
      " 1   rate         1536 non-null   float64\n",
      " 2   meta         11651 non-null  object \n",
      " 3   num_reviews  11651 non-null  int64  \n",
      "dtypes: float64(1), int64(1), object(2)\n",
      "memory usage: 364.2+ KB\n"
     ]
    }
   ],
   "source": [
    "kr.info()"
   ]
  },
  {
   "cell_type": "code",
   "execution_count": 9,
   "id": "b54cf952",
   "metadata": {},
   "outputs": [],
   "source": [
    "kr.to_pickle('data/kr_meta.pkl')"
   ]
  },
  {
   "cell_type": "markdown",
   "id": "5f9e0045",
   "metadata": {},
   "source": [
    "### CN"
   ]
  },
  {
   "cell_type": "code",
   "execution_count": 10,
   "id": "e1858f33",
   "metadata": {},
   "outputs": [],
   "source": [
    "cn=pd.read_pickle('data/cn_meta.pkl')"
   ]
  },
  {
   "cell_type": "code",
   "execution_count": 11,
   "id": "6c359c18",
   "metadata": {},
   "outputs": [
    {
     "data": {
      "application/vnd.jupyter.widget-view+json": {
       "model_id": "7f468db265d643cf83a592a86ced323e",
       "version_major": 2,
       "version_minor": 0
      },
      "text/plain": [
       "VBox(children=(HBox(children=(IntProgress(value=0, description='0.00%', max=1887), Label(value='0 / 1887'))), …"
      ]
     },
     "metadata": {},
     "output_type": "display_data"
    },
    {
     "name": "stdout",
     "output_type": "stream",
     "text": [
      "CPU times: user 31.9 s, sys: 8.57 s, total: 40.4 s\n",
      "Wall time: 8min 56s\n"
     ]
    }
   ],
   "source": [
    "%%time\n",
    "cn['num_reviews'] = cn.parallel_apply(get_all, axis=1)"
   ]
  },
  {
   "cell_type": "code",
   "execution_count": 12,
   "id": "197e28d1",
   "metadata": {},
   "outputs": [
    {
     "name": "stdout",
     "output_type": "stream",
     "text": [
      "<class 'pandas.core.frame.DataFrame'>\n",
      "RangeIndex: 28304 entries, 0 to 28303\n",
      "Data columns (total 4 columns):\n",
      " #   Column       Non-Null Count  Dtype  \n",
      "---  ------       --------------  -----  \n",
      " 0   film         28304 non-null  object \n",
      " 1   rate         1691 non-null   float64\n",
      " 2   meta         28304 non-null  object \n",
      " 3   num_reviews  28304 non-null  int64  \n",
      "dtypes: float64(1), int64(1), object(2)\n",
      "memory usage: 884.6+ KB\n"
     ]
    }
   ],
   "source": [
    "cn.info()"
   ]
  },
  {
   "cell_type": "code",
   "execution_count": 13,
   "id": "ce908f4b",
   "metadata": {},
   "outputs": [],
   "source": [
    "cn.to_pickle('data/cn_meta.pkl')"
   ]
  },
  {
   "cell_type": "markdown",
   "id": "ebf4f6b6",
   "metadata": {},
   "source": [
    "### JP"
   ]
  },
  {
   "cell_type": "code",
   "execution_count": 14,
   "id": "fa011812",
   "metadata": {},
   "outputs": [],
   "source": [
    "jp=pd.read_pickle('data/jp_meta.pkl')"
   ]
  },
  {
   "cell_type": "code",
   "execution_count": 15,
   "id": "e8f29489",
   "metadata": {},
   "outputs": [
    {
     "data": {
      "application/vnd.jupyter.widget-view+json": {
       "model_id": "987632f7698847a48df09c1501594339",
       "version_major": 2,
       "version_minor": 0
      },
      "text/plain": [
       "VBox(children=(HBox(children=(IntProgress(value=0, description='0.00%', max=2313), Label(value='0 / 2313'))), …"
      ]
     },
     "metadata": {},
     "output_type": "display_data"
    },
    {
     "name": "stdout",
     "output_type": "stream",
     "text": [
      "Sleep...\n",
      "Sleep...\n",
      "CPU times: user 39.8 s, sys: 11.1 s, total: 50.8 s\n",
      "Wall time: 10min 19s\n"
     ]
    }
   ],
   "source": [
    "%%time\n",
    "jp['num_reviews'] = jp.parallel_apply(get_all, axis=1)"
   ]
  },
  {
   "cell_type": "code",
   "execution_count": 16,
   "id": "6a6844ed",
   "metadata": {},
   "outputs": [
    {
     "name": "stdout",
     "output_type": "stream",
     "text": [
      "<class 'pandas.core.frame.DataFrame'>\n",
      "RangeIndex: 34689 entries, 0 to 34688\n",
      "Data columns (total 4 columns):\n",
      " #   Column       Non-Null Count  Dtype  \n",
      "---  ------       --------------  -----  \n",
      " 0   film         34689 non-null  object \n",
      " 1   rate         4005 non-null   float64\n",
      " 2   meta         34689 non-null  object \n",
      " 3   num_reviews  34689 non-null  int64  \n",
      "dtypes: float64(1), int64(1), object(2)\n",
      "memory usage: 1.1+ MB\n"
     ]
    }
   ],
   "source": [
    "jp.info()"
   ]
  },
  {
   "cell_type": "code",
   "execution_count": 17,
   "id": "96e67729",
   "metadata": {},
   "outputs": [],
   "source": [
    "jp.to_pickle('data/jp_meta.pkl')"
   ]
  },
  {
   "cell_type": "markdown",
   "id": "def5cd53",
   "metadata": {},
   "source": [
    "## get detailed reviews for non-zero films"
   ]
  },
  {
   "cell_type": "code",
   "execution_count": null,
   "id": "872b9581",
   "metadata": {},
   "outputs": [],
   "source": [
    "kr=pd.read_pickle('data/kr_meta.pkl')\n",
    "kr_have_reviews = kr[kr.num_reviews > 0].reset_index()\n",
    "len(kr_have_reviews)"
   ]
  },
  {
   "cell_type": "code",
   "execution_count": null,
   "id": "86995fc6-8715-4877-80e6-3149a7a4ee23",
   "metadata": {
    "tags": []
   },
   "outputs": [
    {
     "name": "stderr",
     "output_type": "stream",
     "text": [
      "get 26 of 1536:   2% 26/1536 [00:09<08:42,  2.89it/s]"
     ]
    }
   ],
   "source": [
    "%%time\n",
    "num_review_lst = []\n",
    "pbar = tqdm(range(0,len(kr_have_reviews)))\n",
    "for line in pbar:\n",
    "    pbar.set_description(f'get {line} of {len(kr_have_reviews)}')\n",
    "    num_review_lst.append(movieReview(kr_have_reviews['film'][line]).get_num_reviews())\n",
    "len(num_review_lst)"
   ]
  },
  {
   "cell_type": "code",
   "execution_count": null,
   "id": "96923a47-6978-4fbc-ad33-02d921ee9362",
   "metadata": {},
   "outputs": [],
   "source": []
  },
  {
   "cell_type": "code",
   "execution_count": 11,
   "id": "d8053e70-bd98-4351-ab7b-5ad2402d7f1f",
   "metadata": {
    "tags": []
   },
   "outputs": [
    {
     "data": {
      "text/plain": [
       "72"
      ]
     },
     "execution_count": 11,
     "metadata": {},
     "output_type": "execute_result"
    }
   ],
   "source": [
    "movieReview(kr_have_reviews['film'][1]).get_num_reviews()"
   ]
  },
  {
   "cell_type": "code",
   "execution_count": 89,
   "id": "c6a8be1d-4853-4c17-b002-194f9933d4be",
   "metadata": {
    "tags": []
   },
   "outputs": [],
   "source": [
    "class movieReview():\n",
    "    def __init__(self, url):\n",
    "        self.movie = url.split('/')[2]\n",
    "        self.url = 'https://letterboxd.com/film/{}/reviews/'.format(self.movie)\n",
    "        self.soup = get_soup(self.movie)\n",
    "        \n",
    "    def get_soup(self):\n",
    "        page = ''\n",
    "        while page == '':\n",
    "            try:\n",
    "                r = requests.get(self.url, verify = False, headers = headers)\n",
    "                break\n",
    "            except:\n",
    "                print('Sleep...')\n",
    "                time.sleep(5)\n",
    "                continue\n",
    "        soup = BeautifulSoup(r.content, 'html.parser')\n",
    "        return soup\n",
    "    \n",
    "    def get_num_reviews(self):\n",
    "        num_reviews_element = self.soup.find('a', href='/film/{}/reviews/'.format(self.movie))\n",
    "        if num_reviews_element:\n",
    "            try:\n",
    "                num_reviews = num_reviews_element['title'].split('\\xa0')[0]\n",
    "                num_reviews = int(re.sub(',','',num_reviews))\n",
    "                return num_reviews\n",
    "            except:\n",
    "                return 0\n",
    "        else:\n",
    "            return 0"
   ]
  },
  {
   "cell_type": "code",
   "execution_count": 91,
   "id": "ba9b1b14-ec5c-4aa2-b37d-e3aaadf0d406",
   "metadata": {
    "tags": []
   },
   "outputs": [
    {
     "data": {
      "text/plain": [
       "0"
      ]
     },
     "execution_count": 91,
     "metadata": {},
     "output_type": "execute_result"
    }
   ],
   "source": [
    "movieReview(kr['film'][0]).get_num_reviews()"
   ]
  },
  {
   "cell_type": "code",
   "execution_count": 73,
   "id": "34f3c6d3-48eb-4e1d-a67f-58c18c2aeb5a",
   "metadata": {
    "tags": []
   },
   "outputs": [
    {
     "data": {
      "text/plain": [
       "233861"
      ]
     },
     "execution_count": 73,
     "metadata": {},
     "output_type": "execute_result"
    }
   ],
   "source": [
    "get_num_reviews(soup)"
   ]
  },
  {
   "cell_type": "code",
   "execution_count": 11,
   "id": "c2a3b10a-128f-4e68-b9c4-4abdf89ce66c",
   "metadata": {
    "tags": []
   },
   "outputs": [
    {
     "data": {
      "text/plain": [
       "<li class=\"film-detail\"> <a class=\"avatar -a40\" href=\"/mshooster/\"> <img alt=\"mshooster\" height=\"40\" src=\"https://secure.gravatar.com/avatar/b67ce42fd37865859e696ddace0ff71a?rating=PG&amp;size=80&amp;border=&amp;default=https%3A%2F%2Fs2.ltrbxd.com%2Fstatic%2Fimg%2Favatar80.74798e0d.png\" width=\"40\"/> </a> <div class=\"film-detail-content\"> <div class=\"attribution-block\"> <p class=\"attribution\"> <span class=\"content-metadata\"> <span class=\"date\"> <a class=\"context\" href=\"/mshooster/film/parasite-2019/\"> Watched by <strong class=\"name\">mshooster</strong> </a> <span class=\"_nobr\">08 Apr 2019</span> </span> <span class=\"has-icon icon-16 icon-liked\"></span> <a class=\"has-icon icon-comment icon-16 comment-count\" href=\"/mshooster/film/parasite-2019/\">1</a> </span> </p> </div> <div class=\"body-text -prose collapsible-text\" data-full-text-url=\"/s/full-text/viewing:62775614/\"> <p>I’m so exited!!!</p> </div> <p class=\"like-link-target react-component -monotone\" data-component-class=\"globals.comps.LikeLinkComponent\" data-format=\"svg\" data-likeable=\"true\" data-likeable-name=\"review\" data-likeable-uid=\"viewing:62775614\" data-likes-page=\"/mshooster/film/parasite-2019/likes/\" data-owner=\"mshooster\"> <span class=\"svg-action -like\"></span> </p> </div> </li>"
      ]
     },
     "execution_count": 11,
     "metadata": {},
     "output_type": "execute_result"
    }
   ],
   "source": [
    "reviews_lst = soup.find_all('li',class_='film-detail')\n",
    "reviews_lst[0]"
   ]
  },
  {
   "cell_type": "code",
   "execution_count": 67,
   "id": "6f2b3307-cd4d-4d06-8d48-f7fa26c27a22",
   "metadata": {
    "tags": []
   },
   "outputs": [],
   "source": [
    "def get_review(item):\n",
    "    attri = item.find('p',class_='attribution')\n",
    "    if attri:\n",
    "        rate_date = {}\n",
    "        for child in attri.children:\n",
    "            if child.name == 'span':\n",
    "                if child['class'][0] != 'rating':\n",
    "                    user = child.find({'strong':'name'})\n",
    "                    rate_date['user'] = user.text.strip() if user else None\n",
    "                    date = child.find('span',class_='_nobr')\n",
    "                    rate_date['date'] = date.text.strip() if date else None\n",
    "                elif 'rating' in child['class']:\n",
    "                    rate_date['rating'] = child['class'][-1].split('-')[-1]\n",
    "\n",
    "        review = item.find('div',class_='body-text -prose collapsible-text')\n",
    "        rate_date['review'] = review.text.strip() if review else None\n",
    "        \n",
    "    else:\n",
    "        rate_date = None\n",
    "    return rate_date"
   ]
  },
  {
   "cell_type": "code",
   "execution_count": 68,
   "id": "83a63c22-9a1c-4d92-95a9-bc9b87941ca8",
   "metadata": {
    "tags": []
   },
   "outputs": [
    {
     "data": {
      "text/plain": [
       "{'user': 'mshooster', 'date': '08 Apr 2019', 'review': 'I’m so exited!!!'}"
      ]
     },
     "execution_count": 68,
     "metadata": {},
     "output_type": "execute_result"
    }
   ],
   "source": [
    "get_review(reviews_lst[0])"
   ]
  },
  {
   "cell_type": "code",
   "execution_count": 69,
   "id": "d61cd710-b544-4058-a195-66b13cd8f436",
   "metadata": {
    "tags": []
   },
   "outputs": [
    {
     "data": {
      "text/plain": [
       "{'rating': '10', 'user': 'Mr. M', 'date': '15 May 2019', 'review': 'Embargo?'}"
      ]
     },
     "execution_count": 69,
     "metadata": {},
     "output_type": "execute_result"
    }
   ],
   "source": [
    "get_review(reviews_lst[2])"
   ]
  }
 ],
 "metadata": {
  "kernelspec": {
   "display_name": "Python 3 (ipykernel)",
   "language": "python",
   "name": "python3"
  },
  "language_info": {
   "codemirror_mode": {
    "name": "ipython",
    "version": 3
   },
   "file_extension": ".py",
   "mimetype": "text/x-python",
   "name": "python",
   "nbconvert_exporter": "python",
   "pygments_lexer": "ipython3",
   "version": "3.10.10"
  }
 },
 "nbformat": 4,
 "nbformat_minor": 5
}
