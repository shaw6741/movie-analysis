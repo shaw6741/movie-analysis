{
 "cells": [
  {
   "cell_type": "markdown",
   "id": "d7ef3e61-70cb-4b52-84e8-bbb97ee4297c",
   "metadata": {
    "id": "d7ef3e61-70cb-4b52-84e8-bbb97ee4297c"
   },
   "source": [
    "# get reviews"
   ]
  },
  {
   "cell_type": "code",
   "execution_count": 1,
   "id": "ZvGsKSbW8jqH",
   "metadata": {
    "colab": {
     "base_uri": "https://localhost:8080/"
    },
    "executionInfo": {
     "elapsed": 1873,
     "status": "ok",
     "timestamp": 1688012143508,
     "user": {
      "displayName": "Xiao Pang",
      "userId": "02327642841698979017"
     },
     "user_tz": 300
    },
    "id": "ZvGsKSbW8jqH",
    "outputId": "6e93f5c2-c139-442c-b9b9-ce1683140dd9"
   },
   "outputs": [
    {
     "name": "stdout",
     "output_type": "stream",
     "text": [
      "Drive already mounted at /content/drive; to attempt to forcibly remount, call drive.mount(\"/content/drive\", force_remount=True).\n"
     ]
    }
   ],
   "source": [
    "#from google.colab import drive\n",
    "#drive.mount('/content/drive')"
   ]
  },
  {
   "cell_type": "code",
   "execution_count": 2,
   "id": "JOcGevCC8ksF",
   "metadata": {
    "colab": {
     "base_uri": "https://localhost:8080/"
    },
    "executionInfo": {
     "elapsed": 27,
     "status": "ok",
     "timestamp": 1688012143509,
     "user": {
      "displayName": "Xiao Pang",
      "userId": "02327642841698979017"
     },
     "user_tz": 300
    },
    "id": "JOcGevCC8ksF",
    "outputId": "ceee780b-763d-4cd8-96f8-14b7d0f64125"
   },
   "outputs": [
    {
     "name": "stdout",
     "output_type": "stream",
     "text": [
      "/content/drive/MyDrive/Project/letterboxd\n"
     ]
    }
   ],
   "source": [
    "#cd /content/drive/MyDrive/Project/letterboxd"
   ]
  },
  {
   "cell_type": "code",
   "execution_count": 1,
   "id": "68556f0d-2afb-47a1-a92b-5eab81670226",
   "metadata": {
    "colab": {
     "base_uri": "https://localhost:8080/",
     "height": 36
    },
    "executionInfo": {
     "elapsed": 1727,
     "status": "ok",
     "timestamp": 1688012145224,
     "user": {
      "displayName": "Xiao Pang",
      "userId": "02327642841698979017"
     },
     "user_tz": 300
    },
    "id": "68556f0d-2afb-47a1-a92b-5eab81670226",
    "outputId": "8b978105-eccd-406a-ba08-8e0b926b8af6",
    "tags": []
   },
   "outputs": [
    {
     "data": {
      "text/plain": [
       "'/home/jupyter/movie-analysis'"
      ]
     },
     "execution_count": 1,
     "metadata": {},
     "output_type": "execute_result"
    }
   ],
   "source": [
    "import requests, time, json, re\n",
    "import numpy as np\n",
    "import pandas as pd\n",
    "from tqdm import tqdm\n",
    "from datetime import datetime\n",
    "from bs4 import BeautifulSoup\n",
    "# Disable chardet debug messages\n",
    "import logging\n",
    "logging.getLogger().setLevel(logging.WARNING)\n",
    "import urllib3\n",
    "urllib3.disable_warnings(urllib3.exceptions.InsecureRequestWarning)\n",
    "\n",
    "from metadata import *\n",
    "\n",
    "import multiprocessing\n",
    "cpu_count = multiprocessing.cpu_count()\n",
    "\n",
    "import os\n",
    "os.getcwd()"
   ]
  },
  {
   "cell_type": "code",
   "execution_count": 2,
   "id": "e0e78166-1ece-4660-86f1-3b61bf1a9460",
   "metadata": {
    "id": "e0e78166-1ece-4660-86f1-3b61bf1a9460",
    "tags": []
   },
   "outputs": [],
   "source": [
    "!pip install pandarallel -qq"
   ]
  },
  {
   "cell_type": "code",
   "execution_count": 3,
   "id": "8fe1ba37-1695-470f-a2ba-31ff33116269",
   "metadata": {
    "id": "8fe1ba37-1695-470f-a2ba-31ff33116269",
    "outputId": "697c5a85-4475-441b-a6eb-ecf6137b5b20",
    "tags": []
   },
   "outputs": [
    {
     "name": "stdout",
     "output_type": "stream",
     "text": [
      "96\n",
      "INFO: Pandarallel will run on 95 workers.\n",
      "INFO: Pandarallel will use standard multiprocessing data transfer (pipe) to transfer data between the main process and workers.\n"
     ]
    }
   ],
   "source": [
    "from pandarallel import pandarallel\n",
    "print(cpu_count)\n",
    "pandarallel.initialize(nb_workers=cpu_count-1, progress_bar=True, use_memory_fs=False)"
   ]
  },
  {
   "cell_type": "markdown",
   "id": "d23191c4",
   "metadata": {
    "id": "d23191c4",
    "jp-MarkdownHeadingCollapsed": true,
    "tags": []
   },
   "source": [
    "## check num of reviews"
   ]
  },
  {
   "cell_type": "code",
   "execution_count": null,
   "id": "42d1a972",
   "metadata": {
    "id": "42d1a972"
   },
   "outputs": [],
   "source": [
    "def get_all(row):\n",
    "    film = row.film\n",
    "    return movieReview(film).get_num_reviews()"
   ]
  },
  {
   "cell_type": "markdown",
   "id": "72b7594f",
   "metadata": {
    "id": "72b7594f"
   },
   "source": [
    "### KR"
   ]
  },
  {
   "cell_type": "code",
   "execution_count": null,
   "id": "a866ca7c",
   "metadata": {
    "id": "a866ca7c"
   },
   "outputs": [],
   "source": [
    "kr=pd.read_pickle('data/kr_meta.pkl')"
   ]
  },
  {
   "cell_type": "code",
   "execution_count": null,
   "id": "ff222b85",
   "metadata": {
    "colab": {
     "referenced_widgets": [
      "dc588ad2815e4a5586b9e71da14c76aa"
     ]
    },
    "id": "ff222b85",
    "outputId": "e0bb52f1-51a8-45b3-9b6b-de99d4906ecc"
   },
   "outputs": [
    {
     "data": {
      "application/vnd.jupyter.widget-view+json": {
       "model_id": "dc588ad2815e4a5586b9e71da14c76aa",
       "version_major": 2,
       "version_minor": 0
      },
      "text/plain": [
       "VBox(children=(HBox(children=(IntProgress(value=0, description='0.00%', max=777), Label(value='0 / 777'))), HB…"
      ]
     },
     "metadata": {},
     "output_type": "display_data"
    },
    {
     "name": "stdout",
     "output_type": "stream",
     "text": [
      "Sleep...\n",
      "Sleep...\n",
      "CPU times: user 13.4 s, sys: 3.68 s, total: 17.1 s\n",
      "Wall time: 3min 41s\n"
     ]
    }
   ],
   "source": [
    "%%time\n",
    "kr['num_reviews'] = kr.parallel_apply(get_all, axis=1)"
   ]
  },
  {
   "cell_type": "code",
   "execution_count": null,
   "id": "61cd0f7d",
   "metadata": {
    "id": "61cd0f7d",
    "outputId": "cb2ca4a5-bdcb-4e9f-eac0-e1d079dd3517"
   },
   "outputs": [
    {
     "name": "stdout",
     "output_type": "stream",
     "text": [
      "<class 'pandas.core.frame.DataFrame'>\n",
      "RangeIndex: 11651 entries, 0 to 11650\n",
      "Data columns (total 4 columns):\n",
      " #   Column       Non-Null Count  Dtype  \n",
      "---  ------       --------------  -----  \n",
      " 0   film         11651 non-null  object \n",
      " 1   rate         1536 non-null   float64\n",
      " 2   meta         11651 non-null  object \n",
      " 3   num_reviews  11651 non-null  int64  \n",
      "dtypes: float64(1), int64(1), object(2)\n",
      "memory usage: 364.2+ KB\n"
     ]
    }
   ],
   "source": [
    "kr.info()"
   ]
  },
  {
   "cell_type": "code",
   "execution_count": null,
   "id": "b54cf952",
   "metadata": {
    "id": "b54cf952"
   },
   "outputs": [],
   "source": [
    "kr.to_pickle('data/kr_meta.pkl')"
   ]
  },
  {
   "cell_type": "markdown",
   "id": "5f9e0045",
   "metadata": {
    "id": "5f9e0045"
   },
   "source": [
    "### CN"
   ]
  },
  {
   "cell_type": "code",
   "execution_count": null,
   "id": "e1858f33",
   "metadata": {
    "id": "e1858f33"
   },
   "outputs": [],
   "source": [
    "cn=pd.read_pickle('data/cn_meta.pkl')"
   ]
  },
  {
   "cell_type": "code",
   "execution_count": null,
   "id": "6c359c18",
   "metadata": {
    "colab": {
     "referenced_widgets": [
      "7f468db265d643cf83a592a86ced323e"
     ]
    },
    "id": "6c359c18",
    "outputId": "53e91a41-1792-4c4e-ec79-2ad6ea5b4eef"
   },
   "outputs": [
    {
     "data": {
      "application/vnd.jupyter.widget-view+json": {
       "model_id": "7f468db265d643cf83a592a86ced323e",
       "version_major": 2,
       "version_minor": 0
      },
      "text/plain": [
       "VBox(children=(HBox(children=(IntProgress(value=0, description='0.00%', max=1887), Label(value='0 / 1887'))), …"
      ]
     },
     "metadata": {},
     "output_type": "display_data"
    },
    {
     "name": "stdout",
     "output_type": "stream",
     "text": [
      "CPU times: user 31.9 s, sys: 8.57 s, total: 40.4 s\n",
      "Wall time: 8min 56s\n"
     ]
    }
   ],
   "source": [
    "%%time\n",
    "cn['num_reviews'] = cn.parallel_apply(get_all, axis=1)"
   ]
  },
  {
   "cell_type": "code",
   "execution_count": null,
   "id": "197e28d1",
   "metadata": {
    "id": "197e28d1",
    "outputId": "ccd8c7cf-a5df-4d92-ee29-f76fb402c2a7"
   },
   "outputs": [
    {
     "name": "stdout",
     "output_type": "stream",
     "text": [
      "<class 'pandas.core.frame.DataFrame'>\n",
      "RangeIndex: 28304 entries, 0 to 28303\n",
      "Data columns (total 4 columns):\n",
      " #   Column       Non-Null Count  Dtype  \n",
      "---  ------       --------------  -----  \n",
      " 0   film         28304 non-null  object \n",
      " 1   rate         1691 non-null   float64\n",
      " 2   meta         28304 non-null  object \n",
      " 3   num_reviews  28304 non-null  int64  \n",
      "dtypes: float64(1), int64(1), object(2)\n",
      "memory usage: 884.6+ KB\n"
     ]
    }
   ],
   "source": [
    "cn.info()"
   ]
  },
  {
   "cell_type": "code",
   "execution_count": null,
   "id": "ce908f4b",
   "metadata": {
    "id": "ce908f4b"
   },
   "outputs": [],
   "source": [
    "cn.to_pickle('data/cn_meta.pkl')"
   ]
  },
  {
   "cell_type": "markdown",
   "id": "ebf4f6b6",
   "metadata": {
    "id": "ebf4f6b6"
   },
   "source": [
    "### JP"
   ]
  },
  {
   "cell_type": "code",
   "execution_count": null,
   "id": "fa011812",
   "metadata": {
    "id": "fa011812"
   },
   "outputs": [],
   "source": [
    "jp=pd.read_pickle('data/jp_meta.pkl')"
   ]
  },
  {
   "cell_type": "code",
   "execution_count": null,
   "id": "e8f29489",
   "metadata": {
    "colab": {
     "referenced_widgets": [
      "987632f7698847a48df09c1501594339"
     ]
    },
    "id": "e8f29489",
    "outputId": "275c059f-5f3d-4078-bb6e-fd1338a76e2a"
   },
   "outputs": [
    {
     "data": {
      "application/vnd.jupyter.widget-view+json": {
       "model_id": "987632f7698847a48df09c1501594339",
       "version_major": 2,
       "version_minor": 0
      },
      "text/plain": [
       "VBox(children=(HBox(children=(IntProgress(value=0, description='0.00%', max=2313), Label(value='0 / 2313'))), …"
      ]
     },
     "metadata": {},
     "output_type": "display_data"
    },
    {
     "name": "stdout",
     "output_type": "stream",
     "text": [
      "Sleep...\n",
      "Sleep...\n",
      "CPU times: user 39.8 s, sys: 11.1 s, total: 50.8 s\n",
      "Wall time: 10min 19s\n"
     ]
    }
   ],
   "source": [
    "%%time\n",
    "jp['num_reviews'] = jp.parallel_apply(get_all, axis=1)"
   ]
  },
  {
   "cell_type": "code",
   "execution_count": null,
   "id": "6a6844ed",
   "metadata": {
    "id": "6a6844ed",
    "outputId": "9fb7ef7b-3cd0-4962-a1ca-48120ebadc37"
   },
   "outputs": [
    {
     "name": "stdout",
     "output_type": "stream",
     "text": [
      "<class 'pandas.core.frame.DataFrame'>\n",
      "RangeIndex: 34689 entries, 0 to 34688\n",
      "Data columns (total 4 columns):\n",
      " #   Column       Non-Null Count  Dtype  \n",
      "---  ------       --------------  -----  \n",
      " 0   film         34689 non-null  object \n",
      " 1   rate         4005 non-null   float64\n",
      " 2   meta         34689 non-null  object \n",
      " 3   num_reviews  34689 non-null  int64  \n",
      "dtypes: float64(1), int64(1), object(2)\n",
      "memory usage: 1.1+ MB\n"
     ]
    }
   ],
   "source": [
    "jp.info()"
   ]
  },
  {
   "cell_type": "code",
   "execution_count": null,
   "id": "96e67729",
   "metadata": {
    "id": "96e67729"
   },
   "outputs": [],
   "source": [
    "jp.to_pickle('data/jp_meta.pkl')"
   ]
  },
  {
   "cell_type": "markdown",
   "id": "def5cd53",
   "metadata": {
    "id": "def5cd53"
   },
   "source": [
    "## get reviews' links for non-zero films"
   ]
  },
  {
   "cell_type": "markdown",
   "id": "620f71bf",
   "metadata": {},
   "source": [
    "### KR"
   ]
  },
  {
   "cell_type": "code",
   "execution_count": 4,
   "id": "872b9581",
   "metadata": {
    "colab": {
     "base_uri": "https://localhost:8080/"
    },
    "executionInfo": {
     "elapsed": 823,
     "status": "ok",
     "timestamp": 1688012149106,
     "user": {
      "displayName": "Xiao Pang",
      "userId": "02327642841698979017"
     },
     "user_tz": 300
    },
    "id": "872b9581",
    "outputId": "ced78b38-587c-4835-b4bf-78f952895802",
    "tags": []
   },
   "outputs": [
    {
     "data": {
      "text/plain": [
       "((3104, 5), 233868)"
      ]
     },
     "execution_count": 4,
     "metadata": {},
     "output_type": "execute_result"
    }
   ],
   "source": [
    "kr=pd.read_pickle('data/kr_meta.pkl')\n",
    "kr1 = kr[kr.num_reviews >= 5].reset_index()\n",
    "kr1.shape, kr1.num_reviews.max()"
   ]
  },
  {
   "cell_type": "code",
   "execution_count": null,
   "id": "b8a1891e",
   "metadata": {},
   "outputs": [],
   "source": [
    "get_all_reviews"
   ]
  },
  {
   "cell_type": "code",
   "execution_count": 5,
   "id": "mSiq256EDIq1",
   "metadata": {
    "executionInfo": {
     "elapsed": 287,
     "status": "ok",
     "timestamp": 1688008911555,
     "user": {
      "displayName": "Xiao Pang",
      "userId": "02327642841698979017"
     },
     "user_tz": 300
    },
    "id": "mSiq256EDIq1",
    "tags": []
   },
   "outputs": [
    {
     "data": {
      "application/vnd.jupyter.widget-view+json": {
       "model_id": "d01b2c4ca1c24c2e8c92f50a6e5aeb8a",
       "version_major": 2,
       "version_minor": 0
      },
      "text/plain": [
       "VBox(children=(HBox(children=(IntProgress(value=0, description='0.00%', max=33), Label(value='0 / 33'))), HBox…"
      ]
     },
     "metadata": {},
     "output_type": "display_data"
    },
    {
     "name": "stdout",
     "output_type": "stream",
     "text": [
      "sleep...\n",
      "sleep...\n",
      "sleep...\n",
      "sleep...\n",
      "CPU times: user 4.2 s, sys: 2.33 s, total: 6.53 s\n",
      "Wall time: 8min 33s\n"
     ]
    }
   ],
   "source": [
    "%%time\n",
    "kr1['reviews'] = kr1.parallel_apply(get_all_reviews, axis=1)"
   ]
  },
  {
   "cell_type": "code",
   "execution_count": 6,
   "id": "50e64c5d",
   "metadata": {},
   "outputs": [
    {
     "data": {
      "text/html": [
       "<div>\n",
       "<style scoped>\n",
       "    .dataframe tbody tr th:only-of-type {\n",
       "        vertical-align: middle;\n",
       "    }\n",
       "\n",
       "    .dataframe tbody tr th {\n",
       "        vertical-align: top;\n",
       "    }\n",
       "\n",
       "    .dataframe thead th {\n",
       "        text-align: right;\n",
       "    }\n",
       "</style>\n",
       "<table border=\"1\" class=\"dataframe\">\n",
       "  <thead>\n",
       "    <tr style=\"text-align: right;\">\n",
       "      <th></th>\n",
       "      <th>index</th>\n",
       "      <th>film</th>\n",
       "      <th>rate</th>\n",
       "      <th>meta</th>\n",
       "      <th>num_reviews</th>\n",
       "      <th>reviews</th>\n",
       "      <th>len</th>\n",
       "    </tr>\n",
       "  </thead>\n",
       "  <tbody>\n",
       "    <tr>\n",
       "      <th>13</th>\n",
       "      <td>197</td>\n",
       "      <td>/film/i-am-a-truck/</td>\n",
       "      <td>NaN</td>\n",
       "      <td>{'title': 'I Am a Truck', 'year': 1953.0, 'dir...</td>\n",
       "      <td>8</td>\n",
       "      <td>[{'rating': '6', 'link': '/drlemon/film/i-am-a...</td>\n",
       "      <td>9</td>\n",
       "    </tr>\n",
       "    <tr>\n",
       "      <th>82</th>\n",
       "      <td>585</td>\n",
       "      <td>/film/the-flower-girl/</td>\n",
       "      <td>3.37</td>\n",
       "      <td>{'title': 'The Flower Girl', 'year': 1972.0, '...</td>\n",
       "      <td>89</td>\n",
       "      <td>[{'rating': '8', 'link': '/supremelemon/film/t...</td>\n",
       "      <td>90</td>\n",
       "    </tr>\n",
       "    <tr>\n",
       "      <th>85</th>\n",
       "      <td>633</td>\n",
       "      <td>/film/returned-a-single-legged-man/</td>\n",
       "      <td>NaN</td>\n",
       "      <td>{'title': 'Returned A Single-Legged Man', 'yea...</td>\n",
       "      <td>11</td>\n",
       "      <td>[{'rating': '4', 'link': '/dragon_needles/film...</td>\n",
       "      <td>10</td>\n",
       "    </tr>\n",
       "    <tr>\n",
       "      <th>217</th>\n",
       "      <td>1662</td>\n",
       "      <td>/film/the-moon-is-the-suns-dream/</td>\n",
       "      <td>2.51</td>\n",
       "      <td>{'title': 'The Moon Is... the Sun's Dream', 'y...</td>\n",
       "      <td>522</td>\n",
       "      <td>[{'rating': '4', 'link': '/annanomaly/film/the...</td>\n",
       "      <td>526</td>\n",
       "    </tr>\n",
       "    <tr>\n",
       "      <th>264</th>\n",
       "      <td>1984</td>\n",
       "      <td>/film/trio-1997/</td>\n",
       "      <td>2.77</td>\n",
       "      <td>{'title': 'Trio', 'year': 1997.0, 'director': ...</td>\n",
       "      <td>327</td>\n",
       "      <td>[{'rating': '4', 'link': '/annanomaly/film/tri...</td>\n",
       "      <td>331</td>\n",
       "    </tr>\n",
       "    <tr>\n",
       "      <th>...</th>\n",
       "      <td>...</td>\n",
       "      <td>...</td>\n",
       "      <td>...</td>\n",
       "      <td>...</td>\n",
       "      <td>...</td>\n",
       "      <td>...</td>\n",
       "      <td>...</td>\n",
       "    </tr>\n",
       "    <tr>\n",
       "      <th>3090</th>\n",
       "      <td>11200</td>\n",
       "      <td>/film/black-knight-2023/</td>\n",
       "      <td>3.39</td>\n",
       "      <td>{'title': 'Black Knight', 'year': 2023.0, 'dir...</td>\n",
       "      <td>376</td>\n",
       "      <td>[{'rating': '5', 'link': '/annodomini/film/bla...</td>\n",
       "      <td>377</td>\n",
       "    </tr>\n",
       "    <tr>\n",
       "      <th>3094</th>\n",
       "      <td>11212</td>\n",
       "      <td>/film/the-roundup-no-way-out/</td>\n",
       "      <td>3.29</td>\n",
       "      <td>{'title': 'The Roundup: No Way Out', 'year': 2...</td>\n",
       "      <td>278</td>\n",
       "      <td>[{'link': '/anuragkashyap/film/the-roundup-no-...</td>\n",
       "      <td>280</td>\n",
       "    </tr>\n",
       "    <tr>\n",
       "      <th>3100</th>\n",
       "      <td>11220</td>\n",
       "      <td>/film/bitch-x-rich/</td>\n",
       "      <td>NaN</td>\n",
       "      <td>{'title': 'BITCH X RICH', 'year': 2023.0, 'dir...</td>\n",
       "      <td>25</td>\n",
       "      <td>[{'link': '/yeritao/film/bitch-x-rich/', 'date...</td>\n",
       "      <td>38</td>\n",
       "    </tr>\n",
       "    <tr>\n",
       "      <th>3102</th>\n",
       "      <td>11228</td>\n",
       "      <td>/film/the-childe/</td>\n",
       "      <td>3.30</td>\n",
       "      <td>{'title': 'The Childe', 'year': 2023.0, 'direc...</td>\n",
       "      <td>227</td>\n",
       "      <td>[{'rating': '8', 'link': '/djaycoholyc/film/th...</td>\n",
       "      <td>236</td>\n",
       "    </tr>\n",
       "    <tr>\n",
       "      <th>3103</th>\n",
       "      <td>11231</td>\n",
       "      <td>/film/bloodhounds-2023/</td>\n",
       "      <td>3.89</td>\n",
       "      <td>{'title': 'Bloodhounds', 'year': 2023.0, 'dire...</td>\n",
       "      <td>792</td>\n",
       "      <td>[{'rating': '9', 'link': '/cherylt/film/bloodh...</td>\n",
       "      <td>814</td>\n",
       "    </tr>\n",
       "  </tbody>\n",
       "</table>\n",
       "<p>221 rows × 7 columns</p>\n",
       "</div>"
      ],
      "text/plain": [
       "      index                                 film  rate  \\\n",
       "13      197                  /film/i-am-a-truck/   NaN   \n",
       "82      585               /film/the-flower-girl/  3.37   \n",
       "85      633  /film/returned-a-single-legged-man/   NaN   \n",
       "217    1662    /film/the-moon-is-the-suns-dream/  2.51   \n",
       "264    1984                     /film/trio-1997/  2.77   \n",
       "...     ...                                  ...   ...   \n",
       "3090  11200             /film/black-knight-2023/  3.39   \n",
       "3094  11212        /film/the-roundup-no-way-out/  3.29   \n",
       "3100  11220                  /film/bitch-x-rich/   NaN   \n",
       "3102  11228                    /film/the-childe/  3.30   \n",
       "3103  11231              /film/bloodhounds-2023/  3.89   \n",
       "\n",
       "                                                   meta  num_reviews  \\\n",
       "13    {'title': 'I Am a Truck', 'year': 1953.0, 'dir...            8   \n",
       "82    {'title': 'The Flower Girl', 'year': 1972.0, '...           89   \n",
       "85    {'title': 'Returned A Single-Legged Man', 'yea...           11   \n",
       "217   {'title': 'The Moon Is... the Sun's Dream', 'y...          522   \n",
       "264   {'title': 'Trio', 'year': 1997.0, 'director': ...          327   \n",
       "...                                                 ...          ...   \n",
       "3090  {'title': 'Black Knight', 'year': 2023.0, 'dir...          376   \n",
       "3094  {'title': 'The Roundup: No Way Out', 'year': 2...          278   \n",
       "3100  {'title': 'BITCH X RICH', 'year': 2023.0, 'dir...           25   \n",
       "3102  {'title': 'The Childe', 'year': 2023.0, 'direc...          227   \n",
       "3103  {'title': 'Bloodhounds', 'year': 2023.0, 'dire...          792   \n",
       "\n",
       "                                                reviews  len  \n",
       "13    [{'rating': '6', 'link': '/drlemon/film/i-am-a...    9  \n",
       "82    [{'rating': '8', 'link': '/supremelemon/film/t...   90  \n",
       "85    [{'rating': '4', 'link': '/dragon_needles/film...   10  \n",
       "217   [{'rating': '4', 'link': '/annanomaly/film/the...  526  \n",
       "264   [{'rating': '4', 'link': '/annanomaly/film/tri...  331  \n",
       "...                                                 ...  ...  \n",
       "3090  [{'rating': '5', 'link': '/annodomini/film/bla...  377  \n",
       "3094  [{'link': '/anuragkashyap/film/the-roundup-no-...  280  \n",
       "3100  [{'link': '/yeritao/film/bitch-x-rich/', 'date...   38  \n",
       "3102  [{'rating': '8', 'link': '/djaycoholyc/film/th...  236  \n",
       "3103  [{'rating': '9', 'link': '/cherylt/film/bloodh...  814  \n",
       "\n",
       "[221 rows x 7 columns]"
      ]
     },
     "execution_count": 6,
     "metadata": {},
     "output_type": "execute_result"
    }
   ],
   "source": [
    "kr1['len'] = [len(r) for r in kr1['reviews']]\n",
    "kr1[(kr1.len != kr1.num_reviews) & (kr1.len != 3072)]"
   ]
  },
  {
   "cell_type": "code",
   "execution_count": 9,
   "id": "e5263e46",
   "metadata": {},
   "outputs": [
    {
     "name": "stdout",
     "output_type": "stream",
     "text": [
      "<class 'pandas.core.frame.DataFrame'>\n",
      "RangeIndex: 3104 entries, 0 to 3103\n",
      "Data columns (total 5 columns):\n",
      " #   Column       Non-Null Count  Dtype  \n",
      "---  ------       --------------  -----  \n",
      " 0   film         3104 non-null   object \n",
      " 1   rate         1534 non-null   float64\n",
      " 2   meta         3104 non-null   object \n",
      " 3   num_reviews  3104 non-null   int64  \n",
      " 4   reviews      3104 non-null   object \n",
      "dtypes: float64(1), int64(1), object(3)\n",
      "memory usage: 121.4+ KB\n"
     ]
    }
   ],
   "source": [
    "kr1 = kr1.drop(['index','len'],axis=1)\n",
    "kr1.info()"
   ]
  },
  {
   "cell_type": "code",
   "execution_count": 10,
   "id": "62e3bfe2",
   "metadata": {},
   "outputs": [],
   "source": [
    "kr1.to_pickle('data/kr_reviews.pkl')"
   ]
  },
  {
   "cell_type": "markdown",
   "id": "2eb1d34f",
   "metadata": {},
   "source": [
    "### CN"
   ]
  },
  {
   "cell_type": "code",
   "execution_count": 11,
   "id": "de0768a5",
   "metadata": {},
   "outputs": [
    {
     "data": {
      "text/plain": [
       "(5751, 5)"
      ]
     },
     "execution_count": 11,
     "metadata": {},
     "output_type": "execute_result"
    }
   ],
   "source": [
    "cn=pd.read_pickle('data/cn_meta.pkl')\n",
    "cn1 = cn[cn.num_reviews >= 5].reset_index()\n",
    "cn1.shape"
   ]
  },
  {
   "cell_type": "code",
   "execution_count": 12,
   "id": "3028487c",
   "metadata": {},
   "outputs": [
    {
     "data": {
      "application/vnd.jupyter.widget-view+json": {
       "model_id": "eeba0c5d5da74d3db876541bfdd06dc5",
       "version_major": 2,
       "version_minor": 0
      },
      "text/plain": [
       "VBox(children=(HBox(children=(IntProgress(value=0, description='0.00%', max=61), Label(value='0 / 61'))), HBox…"
      ]
     },
     "metadata": {},
     "output_type": "display_data"
    },
    {
     "name": "stdout",
     "output_type": "stream",
     "text": [
      "sleep...\n",
      "sleep...\n",
      "sleep...\n",
      "sleep...\n",
      "sleep...\n",
      "CPU times: user 6.24 s, sys: 3.73 s, total: 9.97 s\n",
      "Wall time: 8min 8s\n"
     ]
    }
   ],
   "source": [
    "%%time\n",
    "cn1['reviews'] = cn1.parallel_apply(get_all_reviews, axis=1)"
   ]
  },
  {
   "cell_type": "code",
   "execution_count": 16,
   "id": "3b2acf8e",
   "metadata": {},
   "outputs": [
    {
     "data": {
      "text/plain": [
       "(237, 7)"
      ]
     },
     "execution_count": 16,
     "metadata": {},
     "output_type": "execute_result"
    }
   ],
   "source": [
    "cn1['len'] = [len(r) for r in cn1['reviews']]\n",
    "cn1[(cn1.len != cn1.num_reviews) & (cn1.len != 3072)].shape"
   ]
  },
  {
   "cell_type": "code",
   "execution_count": 21,
   "id": "f7163c62",
   "metadata": {},
   "outputs": [
    {
     "data": {
      "text/plain": [
       "3081"
      ]
     },
     "execution_count": 21,
     "metadata": {},
     "output_type": "execute_result"
    }
   ],
   "source": [
    "cn1[cn1.len == 3072].num_reviews.min()"
   ]
  },
  {
   "cell_type": "code",
   "execution_count": 22,
   "id": "3282e355",
   "metadata": {},
   "outputs": [
    {
     "name": "stdout",
     "output_type": "stream",
     "text": [
      "<class 'pandas.core.frame.DataFrame'>\n",
      "RangeIndex: 5751 entries, 0 to 5750\n",
      "Data columns (total 5 columns):\n",
      " #   Column       Non-Null Count  Dtype  \n",
      "---  ------       --------------  -----  \n",
      " 0   film         5751 non-null   object \n",
      " 1   rate         1690 non-null   float64\n",
      " 2   meta         5751 non-null   object \n",
      " 3   num_reviews  5751 non-null   int64  \n",
      " 4   reviews      5751 non-null   object \n",
      "dtypes: float64(1), int64(1), object(3)\n",
      "memory usage: 224.8+ KB\n"
     ]
    }
   ],
   "source": [
    "cn1 = cn1.drop(['index','len'],axis=1)\n",
    "cn1.info()"
   ]
  },
  {
   "cell_type": "code",
   "execution_count": 23,
   "id": "e711b5ca",
   "metadata": {},
   "outputs": [],
   "source": [
    "cn1.to_pickle('data/cn_reviews.pkl')"
   ]
  },
  {
   "cell_type": "markdown",
   "id": "86c14674",
   "metadata": {},
   "source": [
    "### JP"
   ]
  },
  {
   "cell_type": "code",
   "execution_count": 24,
   "id": "26c67b0b",
   "metadata": {},
   "outputs": [
    {
     "data": {
      "text/plain": [
       "(10179, 5)"
      ]
     },
     "execution_count": 24,
     "metadata": {},
     "output_type": "execute_result"
    }
   ],
   "source": [
    "jp=pd.read_pickle('data/jp_meta.pkl')\n",
    "jp1 = jp[jp.num_reviews >= 5].reset_index()\n",
    "jp1.shape"
   ]
  },
  {
   "cell_type": "code",
   "execution_count": 25,
   "id": "db0c147c",
   "metadata": {},
   "outputs": [
    {
     "data": {
      "application/vnd.jupyter.widget-view+json": {
       "model_id": "4e2751875eae4fd69f43c8b6f7022b0f",
       "version_major": 2,
       "version_minor": 0
      },
      "text/plain": [
       "VBox(children=(HBox(children=(IntProgress(value=0, description='0.00%', max=108), Label(value='0 / 108'))), HB…"
      ]
     },
     "metadata": {},
     "output_type": "display_data"
    },
    {
     "name": "stdout",
     "output_type": "stream",
     "text": [
      "sleep...\n",
      "sleep...\n",
      "sleep...\n",
      "sleep...\n",
      "sleep...\n",
      "sleep...\n",
      "CPU times: user 8.84 s, sys: 6.8 s, total: 15.6 s\n",
      "Wall time: 21min 56s\n"
     ]
    }
   ],
   "source": [
    "%%time\n",
    "jp1['reviews'] = jp1.parallel_apply(get_all_reviews, axis=1)"
   ]
  },
  {
   "cell_type": "code",
   "execution_count": 27,
   "id": "kmp60I6oBtyu",
   "metadata": {
    "colab": {
     "base_uri": "https://localhost:8080/"
    },
    "executionInfo": {
     "elapsed": 7882,
     "status": "ok",
     "timestamp": 1688012161799,
     "user": {
      "displayName": "Xiao Pang",
      "userId": "02327642841698979017"
     },
     "user_tz": 300
    },
    "id": "kmp60I6oBtyu",
    "outputId": "e4328f02-3b93-42d7-e49f-41afa2010834"
   },
   "outputs": [
    {
     "data": {
      "text/html": [
       "<div>\n",
       "<style scoped>\n",
       "    .dataframe tbody tr th:only-of-type {\n",
       "        vertical-align: middle;\n",
       "    }\n",
       "\n",
       "    .dataframe tbody tr th {\n",
       "        vertical-align: top;\n",
       "    }\n",
       "\n",
       "    .dataframe thead th {\n",
       "        text-align: right;\n",
       "    }\n",
       "</style>\n",
       "<table border=\"1\" class=\"dataframe\">\n",
       "  <thead>\n",
       "    <tr style=\"text-align: right;\">\n",
       "      <th></th>\n",
       "      <th>index</th>\n",
       "      <th>film</th>\n",
       "      <th>rate</th>\n",
       "      <th>meta</th>\n",
       "      <th>num_reviews</th>\n",
       "      <th>reviews</th>\n",
       "      <th>len</th>\n",
       "    </tr>\n",
       "  </thead>\n",
       "  <tbody>\n",
       "    <tr>\n",
       "      <th>3</th>\n",
       "      <td>8</td>\n",
       "      <td>/film/katsudo-shashin/</td>\n",
       "      <td>3.07</td>\n",
       "      <td>{'title': 'Katsudō Shashin', 'year': 1907.0, '...</td>\n",
       "      <td>343</td>\n",
       "      <td>[{'rating': '10', 'link': '/dumbsville/film/ka...</td>\n",
       "      <td>344</td>\n",
       "    </tr>\n",
       "    <tr>\n",
       "      <th>5</th>\n",
       "      <td>34</td>\n",
       "      <td>/film/the-dull-sword/</td>\n",
       "      <td>3.10</td>\n",
       "      <td>{'title': 'The Dull Sword', 'year': 1917.0, 'd...</td>\n",
       "      <td>115</td>\n",
       "      <td>[{'link': '/mpj/film/the-dull-sword/', 'date':...</td>\n",
       "      <td>117</td>\n",
       "    </tr>\n",
       "    <tr>\n",
       "      <th>22</th>\n",
       "      <td>134</td>\n",
       "      <td>/film/a-page-of-madness/</td>\n",
       "      <td>3.82</td>\n",
       "      <td>{'title': 'A Page of Madness', 'year': 1926.0,...</td>\n",
       "      <td>2920</td>\n",
       "      <td>[{'rating': '8', 'link': '/kurstboy/film/a-pag...</td>\n",
       "      <td>2923</td>\n",
       "    </tr>\n",
       "    <tr>\n",
       "      <th>87</th>\n",
       "      <td>368</td>\n",
       "      <td>/film/i-was-born-but/</td>\n",
       "      <td>3.97</td>\n",
       "      <td>{'title': 'I Was Born, But...', 'year': 1932.0...</td>\n",
       "      <td>1544</td>\n",
       "      <td>[{'rating': '8', 'link': '/oneaprilday/film/i-...</td>\n",
       "      <td>1545</td>\n",
       "    </tr>\n",
       "    <tr>\n",
       "      <th>132</th>\n",
       "      <td>489</td>\n",
       "      <td>/film/the-actress-and-the-poet/</td>\n",
       "      <td>NaN</td>\n",
       "      <td>{'title': 'The Actress and the Poet', 'year': ...</td>\n",
       "      <td>36</td>\n",
       "      <td>[{'link': '/fuchsiadyke/film/the-actress-and-t...</td>\n",
       "      <td>37</td>\n",
       "    </tr>\n",
       "    <tr>\n",
       "      <th>...</th>\n",
       "      <td>...</td>\n",
       "      <td>...</td>\n",
       "      <td>...</td>\n",
       "      <td>...</td>\n",
       "      <td>...</td>\n",
       "      <td>...</td>\n",
       "      <td>...</td>\n",
       "    </tr>\n",
       "    <tr>\n",
       "      <th>10162</th>\n",
       "      <td>34035</td>\n",
       "      <td>/film/old-narcissus-2023/</td>\n",
       "      <td>NaN</td>\n",
       "      <td>{'title': 'Old Narcissus', 'year': 2023.0, 'di...</td>\n",
       "      <td>9</td>\n",
       "      <td>[{'rating': '5', 'link': '/billhsu/film/old-na...</td>\n",
       "      <td>10</td>\n",
       "    </tr>\n",
       "    <tr>\n",
       "      <th>10163</th>\n",
       "      <td>34040</td>\n",
       "      <td>/film/monster-2023/</td>\n",
       "      <td>3.97</td>\n",
       "      <td>{'title': 'Monster', 'year': 2023.0, 'director...</td>\n",
       "      <td>745</td>\n",
       "      <td>[{'rating': '7', 'link': '/davidehrlich/film/m...</td>\n",
       "      <td>757</td>\n",
       "    </tr>\n",
       "    <tr>\n",
       "      <th>10165</th>\n",
       "      <td>34045</td>\n",
       "      <td>/film/geats-extra-kamen-rider-punkjack/</td>\n",
       "      <td>NaN</td>\n",
       "      <td>{'title': 'Geats Extra: Kamen Rider PunkJack',...</td>\n",
       "      <td>16</td>\n",
       "      <td>[{'link': '/kreideprinz/film/geats-extra-kamen...</td>\n",
       "      <td>17</td>\n",
       "    </tr>\n",
       "    <tr>\n",
       "      <th>10177</th>\n",
       "      <td>34088</td>\n",
       "      <td>/film/black-clover-sword-of-the-wizard-king/</td>\n",
       "      <td>3.51</td>\n",
       "      <td>{'title': 'Black Clover: Sword of the Wizard K...</td>\n",
       "      <td>1403</td>\n",
       "      <td>[{'rating': '8', 'link': '/emanuele2002/film/b...</td>\n",
       "      <td>1416</td>\n",
       "    </tr>\n",
       "    <tr>\n",
       "      <th>10178</th>\n",
       "      <td>34102</td>\n",
       "      <td>/film/resident-evil-death-island/</td>\n",
       "      <td>NaN</td>\n",
       "      <td>{'title': 'Resident Evil: Death Island', 'year...</td>\n",
       "      <td>34</td>\n",
       "      <td>[{'rating': '7', 'link': '/ner_/film/resident-...</td>\n",
       "      <td>37</td>\n",
       "    </tr>\n",
       "  </tbody>\n",
       "</table>\n",
       "<p>641 rows × 7 columns</p>\n",
       "</div>"
      ],
      "text/plain": [
       "       index                                          film  rate  \\\n",
       "3          8                        /film/katsudo-shashin/  3.07   \n",
       "5         34                         /film/the-dull-sword/  3.10   \n",
       "22       134                      /film/a-page-of-madness/  3.82   \n",
       "87       368                         /film/i-was-born-but/  3.97   \n",
       "132      489               /film/the-actress-and-the-poet/   NaN   \n",
       "...      ...                                           ...   ...   \n",
       "10162  34035                     /film/old-narcissus-2023/   NaN   \n",
       "10163  34040                           /film/monster-2023/  3.97   \n",
       "10165  34045       /film/geats-extra-kamen-rider-punkjack/   NaN   \n",
       "10177  34088  /film/black-clover-sword-of-the-wizard-king/  3.51   \n",
       "10178  34102             /film/resident-evil-death-island/   NaN   \n",
       "\n",
       "                                                    meta  num_reviews  \\\n",
       "3      {'title': 'Katsudō Shashin', 'year': 1907.0, '...          343   \n",
       "5      {'title': 'The Dull Sword', 'year': 1917.0, 'd...          115   \n",
       "22     {'title': 'A Page of Madness', 'year': 1926.0,...         2920   \n",
       "87     {'title': 'I Was Born, But...', 'year': 1932.0...         1544   \n",
       "132    {'title': 'The Actress and the Poet', 'year': ...           36   \n",
       "...                                                  ...          ...   \n",
       "10162  {'title': 'Old Narcissus', 'year': 2023.0, 'di...            9   \n",
       "10163  {'title': 'Monster', 'year': 2023.0, 'director...          745   \n",
       "10165  {'title': 'Geats Extra: Kamen Rider PunkJack',...           16   \n",
       "10177  {'title': 'Black Clover: Sword of the Wizard K...         1403   \n",
       "10178  {'title': 'Resident Evil: Death Island', 'year...           34   \n",
       "\n",
       "                                                 reviews   len  \n",
       "3      [{'rating': '10', 'link': '/dumbsville/film/ka...   344  \n",
       "5      [{'link': '/mpj/film/the-dull-sword/', 'date':...   117  \n",
       "22     [{'rating': '8', 'link': '/kurstboy/film/a-pag...  2923  \n",
       "87     [{'rating': '8', 'link': '/oneaprilday/film/i-...  1545  \n",
       "132    [{'link': '/fuchsiadyke/film/the-actress-and-t...    37  \n",
       "...                                                  ...   ...  \n",
       "10162  [{'rating': '5', 'link': '/billhsu/film/old-na...    10  \n",
       "10163  [{'rating': '7', 'link': '/davidehrlich/film/m...   757  \n",
       "10165  [{'link': '/kreideprinz/film/geats-extra-kamen...    17  \n",
       "10177  [{'rating': '8', 'link': '/emanuele2002/film/b...  1416  \n",
       "10178  [{'rating': '7', 'link': '/ner_/film/resident-...    37  \n",
       "\n",
       "[641 rows x 7 columns]"
      ]
     },
     "execution_count": 27,
     "metadata": {},
     "output_type": "execute_result"
    }
   ],
   "source": [
    "jp1['len'] = [len(r) for r in jp1['reviews']]\n",
    "jp1[(jp1.len != jp1.num_reviews) & (jp1.len != 3072)]"
   ]
  },
  {
   "cell_type": "code",
   "execution_count": 28,
   "id": "4bhm4W9FRxXv",
   "metadata": {
    "colab": {
     "base_uri": "https://localhost:8080/"
    },
    "executionInfo": {
     "elapsed": 17,
     "status": "ok",
     "timestamp": 1688012161801,
     "user": {
      "displayName": "Xiao Pang",
      "userId": "02327642841698979017"
     },
     "user_tz": 300
    },
    "id": "4bhm4W9FRxXv",
    "outputId": "fa9e9994-1f58-4701-e157-fd9ecb28d704"
   },
   "outputs": [
    {
     "data": {
      "text/plain": [
       "3088"
      ]
     },
     "execution_count": 28,
     "metadata": {},
     "output_type": "execute_result"
    }
   ],
   "source": [
    "jp1[jp1.len == 3072].num_reviews.min()"
   ]
  },
  {
   "cell_type": "code",
   "execution_count": 29,
   "id": "lLUacOFIR0GK",
   "metadata": {
    "executionInfo": {
     "elapsed": 44462,
     "status": "ok",
     "timestamp": 1688012206255,
     "user": {
      "displayName": "Xiao Pang",
      "userId": "02327642841698979017"
     },
     "user_tz": 300
    },
    "id": "lLUacOFIR0GK"
   },
   "outputs": [
    {
     "name": "stdout",
     "output_type": "stream",
     "text": [
      "<class 'pandas.core.frame.DataFrame'>\n",
      "RangeIndex: 10179 entries, 0 to 10178\n",
      "Data columns (total 5 columns):\n",
      " #   Column       Non-Null Count  Dtype  \n",
      "---  ------       --------------  -----  \n",
      " 0   film         10179 non-null  object \n",
      " 1   rate         4003 non-null   float64\n",
      " 2   meta         10179 non-null  object \n",
      " 3   num_reviews  10179 non-null  int64  \n",
      " 4   reviews      10179 non-null  object \n",
      "dtypes: float64(1), int64(1), object(3)\n",
      "memory usage: 397.7+ KB\n"
     ]
    }
   ],
   "source": [
    "jp1 = jp1.drop(['index','len'],axis=1)\n",
    "jp1.info()"
   ]
  },
  {
   "cell_type": "code",
   "execution_count": 30,
   "id": "V6x2x1O8SAhT",
   "metadata": {
    "colab": {
     "base_uri": "https://localhost:8080/"
    },
    "executionInfo": {
     "elapsed": 47,
     "status": "ok",
     "timestamp": 1688012206257,
     "user": {
      "displayName": "Xiao Pang",
      "userId": "02327642841698979017"
     },
     "user_tz": 300
    },
    "id": "V6x2x1O8SAhT",
    "outputId": "1d1ed183-7fe1-41ae-cf14-d190de254177"
   },
   "outputs": [],
   "source": [
    "jp1.to_pickle('data/jp_reviews.pkl')"
   ]
  },
  {
   "cell_type": "code",
   "execution_count": 34,
   "id": "610cff6d",
   "metadata": {},
   "outputs": [],
   "source": [
    "from google.cloud import storage\n",
    "import pickle\n",
    "storage_client = storage.Client()\n",
    "\n",
    "bucket = storage_client.bucket('movie-analysis')\n",
    "blob = bucket.blob('kr_reviews.pkl')\n",
    "\n",
    "# write\n",
    "with blob.open(mode='wb') as f:\n",
    "    pickle.dump(kr1, f)\n",
    "\n",
    "# read\n",
    "# with blob.open(mode='rb') as f:\n",
    "#     d_reloaded = pickle.load(f)\n"
   ]
  },
  {
   "cell_type": "markdown",
   "id": "7f82709f",
   "metadata": {},
   "source": [
    "# get review contents"
   ]
  },
  {
   "cell_type": "code",
   "execution_count": null,
   "id": "96923a47-6978-4fbc-ad33-02d921ee9362",
   "metadata": {
    "id": "96923a47-6978-4fbc-ad33-02d921ee9362"
   },
   "outputs": [],
   "source": []
  }
 ],
 "metadata": {
  "colab": {
   "collapsed_sections": [
    "d23191c4"
   ],
   "provenance": []
  },
  "kernelspec": {
   "display_name": "Python 3 (ipykernel)",
   "language": "python",
   "name": "python3"
  },
  "language_info": {
   "codemirror_mode": {
    "name": "ipython",
    "version": 3
   },
   "file_extension": ".py",
   "mimetype": "text/x-python",
   "name": "python",
   "nbconvert_exporter": "python",
   "pygments_lexer": "ipython3",
   "version": "3.10.10"
  }
 },
 "nbformat": 4,
 "nbformat_minor": 5
}
